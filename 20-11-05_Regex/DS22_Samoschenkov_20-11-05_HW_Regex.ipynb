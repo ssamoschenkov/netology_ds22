{
 "cells": [
  {
   "cell_type": "code",
   "execution_count": 41,
   "metadata": {},
   "outputs": [
    {
     "output_type": "stream",
     "name": "stdout",
     "text": [
      "Результат: Номер валиден. Регион: 96\n"
     ]
    }
   ],
   "source": [
    "# Домашнее задание к лекции \"Регулярные выражения\"\n",
    "# Внимание! При реализации всех заданий необходимо использовать именно функционал регулярных выражений для обработки текста.\n",
    "\n",
    "# Задание 1\n",
    "# Напишите функцию, которая принимает на вход строку и проверяет является ли она валидным транспортным номером (1 буква, 3 цифры, 2 буквы, 2-3 цифры). Обратите внимание, что не все буквы кириллического алфавита используются в транспортных номерах.\n",
    "\n",
    "# Если номер валиден, то функция должна возвращать отдельно номер и регион.\n",
    "\n",
    "# Примеры работы программы:\n",
    "# car_id = 'A222BC96'\n",
    "# Результат: Номер A222BС валиден. Регион: 96\n",
    "\n",
    "# car_id = 'АБ22ВВ193'\n",
    "# Результат: Номер не валиден\n",
    "\n",
    "# car_id = 'АБ22ВВ193'\n",
    "\n",
    "import re\n",
    "\n",
    "car_id = 'A222BC96'\n",
    "\n",
    "def is_car_id_valid(car_id):\n",
    "    \"\"\"\n",
    "    Функция проверяет автомобильный номер на валидность\n",
    "    \"\"\"\n",
    "    search_pattern=r'^([A-Z|А|В|Е|К|М|Н|О|Р|С|Т|Х]{1}\\d{3}[A-Z|А|В|Е|К|М|Н|О|Р|С|Т|Х]{2}){1}(\\d{2,3}){1}(?!.+)'\n",
    "    return re.match(search_pattern, car_id)\n",
    "\n",
    "car_id_match_result = is_car_id_valid(car_id)\n",
    "if car_id_match_result != None:\n",
    "    print(f'Результат: Номер валиден. Регион: {car_id_match_result.group(2)}')\n",
    "else:\n",
    "    print('Результат: Номер не валиден')\n",
    "\n"
   ]
  },
  {
   "cell_type": "code",
   "execution_count": 83,
   "metadata": {},
   "outputs": [
    {
     "output_type": "stream",
     "name": "stdout",
     "text": [
      "Напишите функцию, которая будет удалять все последовательные повторы слов из заданной строки при помощи регулярных выражений.\n"
     ]
    }
   ],
   "source": [
    "# Задание 2\n",
    "# Напишите функцию, которая будет удалять все последовательные повторы слов из заданной строки при помощи регулярных выражений.\n",
    "\n",
    "some_string = 'Напишите функцию функцию, которая будет будет будет будет удалять все все все все последовательные повторы слов из из из из заданной строки строки при помощи регулярных выражений.'\n",
    "\n",
    "def delete_repite_dublicate_words(some_string):\n",
    "    \"\"\"\n",
    "    Функция удалаяет стоящие рядом дубликаты слов\n",
    "    \"\"\"\n",
    "    search_pattern = r'\\b(\\w+)( \\1\\b)+'\n",
    "    replace_pattern = r'\\1'\n",
    "    return re.sub(search_pattern, replace_pattern, some_string)\n",
    "\n",
    "print(delete_repite_dublicate_words(some_string))\n",
    "\n"
   ]
  },
  {
   "cell_type": "code",
   "execution_count": 149,
   "metadata": {},
   "outputs": [
    {
     "output_type": "stream",
     "name": "stdout",
     "text": [
      "Результат: NFC\n"
     ]
    }
   ],
   "source": [
    "# Задание 3\n",
    "# Напишите функцию, которая будет возвращать акроним по переданной в нее строке со словами.\n",
    "\n",
    "# Примеры работы программы:\n",
    "\n",
    "# some_words = 'Информационные технологии'\n",
    "# Результат: ИТ\n",
    "\n",
    "# some_words = 'Near Field Communication'\n",
    "# Результат: NFC\n",
    "\n",
    "some_words = 'Near Field Communication'\n",
    "\n",
    "def to_acronym(some_words):\n",
    "    \"\"\"\n",
    "    Возвращает аббревиатуру \n",
    "    \"\"\"\n",
    "    # search_pattern = r'((?<=(\\b))\\w)'\n",
    "    search_pattern = r'((?<!(\\b))\\w+|\\s)'\n",
    "    replace_pattern = r''\n",
    "    return re.sub(search_pattern, replace_pattern, some_words).upper()\n",
    "\n",
    "print(f'Результат: {to_acronym(some_words)}')\n"
   ]
  },
  {
   "cell_type": "code",
   "execution_count": 161,
   "metadata": {},
   "outputs": [
    {
     "output_type": "stream",
     "name": "stdout",
     "text": [
      "Результат:\ngmail.com: 2\ntest.in: 1\nya.ru: 2\nmail.ru: 1\n"
     ]
    }
   ],
   "source": [
    "# Задание 4\n",
    "# Напишите функцию, которая будет принимать на вход список email-адресов и выводить их распределение по доменным зонам.\n",
    "\n",
    "# Пример работы программы:\n",
    "\n",
    "# emails = ['test@gmail.com', 'xyz@test.in', 'test@ya.ru', 'xyz@mail.ru', 'xyz@ya.ru', 'xyz@gmail.com']\n",
    "\n",
    "# Результат:\n",
    "# gmail.com: 2\n",
    "# test.in: 1 \n",
    "# ya.ru: 2 \n",
    "# mail.ru: 1\n",
    "\n",
    "emails = ['test@gmail.com', 'xyz@test.in', 'test@ya.ru', 'xyz@mail.ru', 'xyz@ya.ru', 'xyz@gmail.com']\n",
    "\n",
    "def emails_count_by_domens(emails):\n",
    "    \"\"\"\n",
    "    Возвращает количество email-адресов по доменам\n",
    "    \"\"\"\n",
    "    search_pattern = r'(?<=@)(.+)'\n",
    "    domen_dic = dict()\n",
    "    for email in emails:\n",
    "        domen = re.findall(search_pattern, email)[0]\n",
    "        if domen in domen_dic: \n",
    "            domen_dic[domen] += 1\n",
    "        else:\n",
    "            domen_dic[domen] = 1\n",
    "    return domen_dic\n",
    "\n",
    "print('Результат:')\n",
    "for key, value in emails_count_by_domens(emails).items():\n",
    "    print(f'{key}: {value}')\n"
   ]
  },
  {
   "cell_type": "code",
   "execution_count": null,
   "metadata": {},
   "outputs": [],
   "source": []
  }
 ],
 "metadata": {
  "kernelspec": {
   "display_name": "Python 3",
   "language": "python",
   "name": "python3"
  },
  "language_info": {
   "codemirror_mode": {
    "name": "ipython",
    "version": 3
   },
   "file_extension": ".py",
   "mimetype": "text/x-python",
   "name": "python",
   "nbconvert_exporter": "python",
   "pygments_lexer": "ipython3",
   "version": "3.7.6-final"
  }
 },
 "nbformat": 4,
 "nbformat_minor": 4
}