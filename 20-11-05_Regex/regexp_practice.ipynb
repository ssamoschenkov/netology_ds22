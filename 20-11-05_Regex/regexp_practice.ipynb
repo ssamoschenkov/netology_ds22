{
 "cells": [
  {
   "cell_type": "code",
   "execution_count": 48,
   "metadata": {},
   "outputs": [],
   "source": [
    "import re"
   ]
  },
  {
   "cell_type": "code",
   "execution_count": 49,
   "metadata": {},
   "outputs": [],
   "source": [
    "# найдем идентификаторы пользователей в тексте\n",
    "msg = 'В розыгрыше победили: id1234563, id4653, id46!'"
   ]
  },
  {
   "cell_type": "code",
   "execution_count": 50,
   "metadata": {},
   "outputs": [
    {
     "output_type": "execute_result",
     "data": {
      "text/plain": [
       "['id1234563', 'id4653', 'id46']"
      ]
     },
     "metadata": {},
     "execution_count": 50
    }
   ],
   "source": [
    "re.findall(r'id\\d+', msg)"
   ]
  },
  {
   "cell_type": "code",
   "execution_count": 51,
   "metadata": {},
   "outputs": [],
   "source": [
    "# ПРАКТИКА. Найдем хэштеги в твите\n",
    "tweet = 'когда #эпидемия, то обязательно #оставайсядома'"
   ]
  },
  {
   "cell_type": "code",
   "execution_count": null,
   "metadata": {},
   "outputs": [],
   "source": []
  },
  {
   "cell_type": "code",
   "execution_count": 52,
   "metadata": {},
   "outputs": [
    {
     "output_type": "execute_result",
     "data": {
      "text/plain": [
       "['Что',\n",
       " 'такое',\n",
       " 'регулярные',\n",
       " 'выражения',\n",
       " 'и',\n",
       " 'как',\n",
       " 'их',\n",
       " 'использовать',\n",
       " 'Говоря',\n",
       " 'простым',\n",
       " 'языком',\n",
       " 'регулярное',\n",
       " 'выражение',\n",
       " 'это',\n",
       " 'последовательность',\n",
       " 'символов',\n",
       " 'используемая',\n",
       " 'для',\n",
       " 'поиска',\n",
       " 'и',\n",
       " 'замены',\n",
       " 'текста',\n",
       " 'в',\n",
       " 'строке',\n",
       " 'или',\n",
       " 'файле',\n",
       " 'Как',\n",
       " 'уже',\n",
       " 'было',\n",
       " 'упомянуто',\n",
       " 'их',\n",
       " 'поддерживает',\n",
       " 'множество',\n",
       " 'языков',\n",
       " 'общего',\n",
       " 'назначения',\n",
       " 'Python',\n",
       " 'Perl',\n",
       " 'R',\n",
       " 'Так',\n",
       " 'что',\n",
       " 'изучение',\n",
       " 'регулярных',\n",
       " 'выражений',\n",
       " 'рано',\n",
       " 'или',\n",
       " 'поздно',\n",
       " 'пригодится']"
      ]
     },
     "metadata": {},
     "execution_count": 52
    }
   ],
   "source": [
    "# посмотрим внимательнее, как работают quantifiers\n",
    "import re\n",
    "text = \"\"\"Что такое регулярные выражения и как их использовать? \n",
    "Говоря простым языком, регулярное выражение — это последовательность символов, используемая для поиска и замены текста в строке или файле. Как уже было упомянуто,\\\n",
    "их поддерживает множество языков общего назначения: Python, Perl, R.\n",
    "Так что изучение регулярных выражений рано или поздно пригодится.\"\"\"\n",
    "re.findall(r'\\w+', text)"
   ]
  },
  {
   "cell_type": "code",
   "execution_count": 53,
   "metadata": {},
   "outputs": [
    {
     "output_type": "execute_result",
     "data": {
      "text/plain": [
       "['Ч',\n",
       " 'т',\n",
       " 'о',\n",
       " '',\n",
       " 'т',\n",
       " 'а',\n",
       " 'к',\n",
       " 'о',\n",
       " 'е',\n",
       " '',\n",
       " 'р',\n",
       " 'е',\n",
       " 'г',\n",
       " 'у',\n",
       " 'л',\n",
       " 'я',\n",
       " 'р',\n",
       " 'н',\n",
       " 'ы',\n",
       " 'е',\n",
       " '',\n",
       " 'в',\n",
       " 'ы',\n",
       " 'р',\n",
       " 'а',\n",
       " 'ж',\n",
       " 'е',\n",
       " 'н',\n",
       " 'и',\n",
       " 'я',\n",
       " '',\n",
       " 'и',\n",
       " '',\n",
       " 'к',\n",
       " 'а',\n",
       " 'к',\n",
       " '',\n",
       " 'и',\n",
       " 'х',\n",
       " '',\n",
       " 'и',\n",
       " 'с',\n",
       " 'п',\n",
       " 'о',\n",
       " 'л',\n",
       " 'ь',\n",
       " 'з',\n",
       " 'о',\n",
       " 'в',\n",
       " 'а',\n",
       " 'т',\n",
       " 'ь',\n",
       " '',\n",
       " '',\n",
       " '',\n",
       " 'Г',\n",
       " 'о',\n",
       " 'в',\n",
       " 'о',\n",
       " 'р',\n",
       " 'я',\n",
       " '',\n",
       " 'п',\n",
       " 'р',\n",
       " 'о',\n",
       " 'с',\n",
       " 'т',\n",
       " 'ы',\n",
       " 'м',\n",
       " '',\n",
       " 'я',\n",
       " 'з',\n",
       " 'ы',\n",
       " 'к',\n",
       " 'о',\n",
       " 'м',\n",
       " '',\n",
       " '',\n",
       " 'р',\n",
       " 'е',\n",
       " 'г',\n",
       " 'у',\n",
       " 'л',\n",
       " 'я',\n",
       " 'р',\n",
       " 'н',\n",
       " 'о',\n",
       " 'е',\n",
       " '',\n",
       " 'в',\n",
       " 'ы',\n",
       " 'р',\n",
       " 'а',\n",
       " 'ж',\n",
       " 'е',\n",
       " 'н',\n",
       " 'и',\n",
       " 'е',\n",
       " '',\n",
       " '',\n",
       " '',\n",
       " 'э',\n",
       " 'т',\n",
       " 'о',\n",
       " '',\n",
       " 'п',\n",
       " 'о',\n",
       " 'с',\n",
       " 'л',\n",
       " 'е',\n",
       " 'д',\n",
       " 'о',\n",
       " 'в',\n",
       " 'а',\n",
       " 'т',\n",
       " 'е',\n",
       " 'л',\n",
       " 'ь',\n",
       " 'н',\n",
       " 'о',\n",
       " 'с',\n",
       " 'т',\n",
       " 'ь',\n",
       " '',\n",
       " 'с',\n",
       " 'и',\n",
       " 'м',\n",
       " 'в',\n",
       " 'о',\n",
       " 'л',\n",
       " 'о',\n",
       " 'в',\n",
       " '',\n",
       " '',\n",
       " 'и',\n",
       " 'с',\n",
       " 'п',\n",
       " 'о',\n",
       " 'л',\n",
       " 'ь',\n",
       " 'з',\n",
       " 'у',\n",
       " 'е',\n",
       " 'м',\n",
       " 'а',\n",
       " 'я',\n",
       " '',\n",
       " 'д',\n",
       " 'л',\n",
       " 'я',\n",
       " '',\n",
       " 'п',\n",
       " 'о',\n",
       " 'и',\n",
       " 'с',\n",
       " 'к',\n",
       " 'а',\n",
       " '',\n",
       " 'и',\n",
       " '',\n",
       " 'з',\n",
       " 'а',\n",
       " 'м',\n",
       " 'е',\n",
       " 'н',\n",
       " 'ы',\n",
       " '',\n",
       " 'т',\n",
       " 'е',\n",
       " 'к',\n",
       " 'с',\n",
       " 'т',\n",
       " 'а',\n",
       " '',\n",
       " 'в',\n",
       " '',\n",
       " 'с',\n",
       " 'т',\n",
       " 'р',\n",
       " 'о',\n",
       " 'к',\n",
       " 'е',\n",
       " '',\n",
       " 'и',\n",
       " 'л',\n",
       " 'и',\n",
       " '',\n",
       " 'ф',\n",
       " 'а',\n",
       " 'й',\n",
       " 'л',\n",
       " 'е',\n",
       " '',\n",
       " '',\n",
       " 'К',\n",
       " 'а',\n",
       " 'к',\n",
       " '',\n",
       " 'у',\n",
       " 'ж',\n",
       " 'е',\n",
       " '',\n",
       " 'б',\n",
       " 'ы',\n",
       " 'л',\n",
       " 'о',\n",
       " '',\n",
       " 'у',\n",
       " 'п',\n",
       " 'о',\n",
       " 'м',\n",
       " 'я',\n",
       " 'н',\n",
       " 'у',\n",
       " 'т',\n",
       " 'о',\n",
       " '',\n",
       " 'и',\n",
       " 'х',\n",
       " '',\n",
       " 'п',\n",
       " 'о',\n",
       " 'д',\n",
       " 'д',\n",
       " 'е',\n",
       " 'р',\n",
       " 'ж',\n",
       " 'и',\n",
       " 'в',\n",
       " 'а',\n",
       " 'е',\n",
       " 'т',\n",
       " '',\n",
       " 'м',\n",
       " 'н',\n",
       " 'о',\n",
       " 'ж',\n",
       " 'е',\n",
       " 'с',\n",
       " 'т',\n",
       " 'в',\n",
       " 'о',\n",
       " '',\n",
       " 'я',\n",
       " 'з',\n",
       " 'ы',\n",
       " 'к',\n",
       " 'о',\n",
       " 'в',\n",
       " '',\n",
       " 'о',\n",
       " 'б',\n",
       " 'щ',\n",
       " 'е',\n",
       " 'г',\n",
       " 'о',\n",
       " '',\n",
       " 'н',\n",
       " 'а',\n",
       " 'з',\n",
       " 'н',\n",
       " 'а',\n",
       " 'ч',\n",
       " 'е',\n",
       " 'н',\n",
       " 'и',\n",
       " 'я',\n",
       " '',\n",
       " '',\n",
       " 'P',\n",
       " 'y',\n",
       " 't',\n",
       " 'h',\n",
       " 'o',\n",
       " 'n',\n",
       " '',\n",
       " '',\n",
       " 'P',\n",
       " 'e',\n",
       " 'r',\n",
       " 'l',\n",
       " '',\n",
       " '',\n",
       " 'R',\n",
       " '',\n",
       " '',\n",
       " 'Т',\n",
       " 'а',\n",
       " 'к',\n",
       " '',\n",
       " 'ч',\n",
       " 'т',\n",
       " 'о',\n",
       " '',\n",
       " 'и',\n",
       " 'з',\n",
       " 'у',\n",
       " 'ч',\n",
       " 'е',\n",
       " 'н',\n",
       " 'и',\n",
       " 'е',\n",
       " '',\n",
       " 'р',\n",
       " 'е',\n",
       " 'г',\n",
       " 'у',\n",
       " 'л',\n",
       " 'я',\n",
       " 'р',\n",
       " 'н',\n",
       " 'ы',\n",
       " 'х',\n",
       " '',\n",
       " 'в',\n",
       " 'ы',\n",
       " 'р',\n",
       " 'а',\n",
       " 'ж',\n",
       " 'е',\n",
       " 'н',\n",
       " 'и',\n",
       " 'й',\n",
       " '',\n",
       " 'р',\n",
       " 'а',\n",
       " 'н',\n",
       " 'о',\n",
       " '',\n",
       " 'и',\n",
       " 'л',\n",
       " 'и',\n",
       " '',\n",
       " 'п',\n",
       " 'о',\n",
       " 'з',\n",
       " 'д',\n",
       " 'н',\n",
       " 'о',\n",
       " '',\n",
       " 'п',\n",
       " 'р',\n",
       " 'и',\n",
       " 'г',\n",
       " 'о',\n",
       " 'д',\n",
       " 'и',\n",
       " 'т',\n",
       " 'с',\n",
       " 'я',\n",
       " '',\n",
       " '']"
      ]
     },
     "metadata": {},
     "execution_count": 53
    }
   ],
   "source": [
    "re.findall(r'\\w?', text)"
   ]
  },
  {
   "cell_type": "code",
   "execution_count": 54,
   "metadata": {},
   "outputs": [
    {
     "output_type": "execute_result",
     "data": {
      "text/plain": [
       "['20-11-2017', '20-11-2019']"
      ]
     },
     "metadata": {},
     "execution_count": 54
    }
   ],
   "source": [
    "import re\n",
    "# необходимо из строки с условными датами вытащить их\n",
    "registration = '20-11-2017 Date of start: 4-12-202. Date of registration: 20-11-2019'\n",
    "re.findall(r'\\d{1,2}-\\d{1,2}-\\d{4}', registration)"
   ]
  },
  {
   "cell_type": "code",
   "execution_count": 55,
   "metadata": {},
   "outputs": [
    {
     "output_type": "execute_result",
     "data": {
      "text/plain": [
       "['20-11', '4-12', '20-11']"
      ]
     },
     "metadata": {},
     "execution_count": 55
    }
   ],
   "source": [
    "re.findall(r'\\d{1,2}-\\d{1,2}', registration)"
   ]
  },
  {
   "cell_type": "code",
   "execution_count": 56,
   "metadata": {},
   "outputs": [
    {
     "output_type": "execute_result",
     "data": {
      "text/plain": [
       "['8-943-342-23-32', '8-323-432-23-67']"
      ]
     },
     "metadata": {},
     "execution_count": 56
    }
   ],
   "source": [
    "import re\n",
    "# вытащим номера телефонов и текста\n",
    "phone_numbers = 'Мария: 8-943-342-23-32 Александр: 8-323-432-23-67'\n",
    "pattern = r'\\d{1}-\\d{1,3}-\\d{1,3}-\\d{1,2}-\\d{1,2}'\n",
    "re.findall(pattern, phone_numbers)\n"
   ]
  },
  {
   "cell_type": "code",
   "execution_count": 57,
   "metadata": {},
   "outputs": [
    {
     "output_type": "execute_result",
     "data": {
      "text/plain": [
       "['8-943-342-23-32', '8-323-432-23-67']"
      ]
     },
     "metadata": {},
     "execution_count": 57
    }
   ],
   "source": [
    "phone_pattern = r'\\d-\\d{3}-\\d{3}-\\d{2}-\\d{2}'\n",
    "re.findall(phone_pattern, phone_numbers)"
   ]
  },
  {
   "cell_type": "code",
   "execution_count": 58,
   "metadata": {
    "scrolled": true
   },
   "outputs": [],
   "source": [
    "# ПРАКТИКА. Свалидируем дату\n",
    "date = '1st september 2019 17:25'\n"
   ]
  },
  {
   "cell_type": "code",
   "execution_count": null,
   "metadata": {},
   "outputs": [],
   "source": []
  },
  {
   "cell_type": "code",
   "execution_count": 59,
   "metadata": {},
   "outputs": [
    {
     "output_type": "stream",
     "name": "stdout",
     "text": [
      "33\n"
     ]
    }
   ],
   "source": [
    "\n",
    "# ПРАКТИКА. Посчитаем количество лайков и репостов по всем сообщениям\n",
    "import re\n",
    "messages = ['Опять дождь! Лайков: 5, Репостов: 4', 'Крутой был концерт! Лайков: 28, Репостов: 22']\n",
    "\n",
    "likes_pattern = r'Лайков:\\s\\d+'\n",
    "repost_pattern = r'Репостов:\\s\\d+'\n",
    "\n",
    "likes = 0\n",
    "reposts = 0\n",
    "\n",
    "for msg in messages:\n",
    "    if re.findall(likes_pattern, msg):\n",
    "        likes += int(re.findall(r'\\d+', re.findall(likes_pattern, msg)[0])[0])\n",
    "print(likes)"
   ]
  },
  {
   "cell_type": "code",
   "execution_count": null,
   "metadata": {},
   "outputs": [],
   "source": []
  },
  {
   "cell_type": "code",
   "execution_count": null,
   "metadata": {},
   "outputs": [],
   "source": []
  },
  {
   "cell_type": "code",
   "execution_count": 60,
   "metadata": {},
   "outputs": [
    {
     "output_type": "stream",
     "name": "stdout",
     "text": [
      "4\n"
     ]
    }
   ],
   "source": [
    "# посчитаем количество восклицательных предложений в твите\n",
    "tweet_2 = 'Какое замечательное место! Обязательно вернусть сюда снова. Всем советую!!!'\n",
    "import re\n",
    "likes_pattern = r'!'\n",
    "likes = len(re.findall(likes_pattern, tweet_2))\n",
    "print(likes)\n",
    "\n"
   ]
  },
  {
   "cell_type": "code",
   "execution_count": 61,
   "metadata": {},
   "outputs": [
    {
     "output_type": "execute_result",
     "data": {
      "text/plain": [
       "['Какое замечательное место',\n",
       " ' Обязательно вернусть сюда снова',\n",
       " ' Почему так',\n",
       " ' Всем советую',\n",
       " '']"
      ]
     },
     "metadata": {},
     "execution_count": 61
    }
   ],
   "source": [
    "# посчитаем количество восклицательных предложений в твите\n",
    "tweet_2 = 'Какое замечательное место! Обязательно вернусть сюда снова. Почему так? Всем советую!!!'\n",
    "import re\n",
    "likes_pattern = r'!'\n",
    "likes = len(re.findall(likes_pattern, tweet_2))\n",
    "\n",
    "re.split(r'[!.?]+', tweet_2)\n",
    "# re.split(r'!+ ', tweet_2)\n",
    "# len(re.split(r'!+\\s', tweet_2))"
   ]
  },
  {
   "cell_type": "code",
   "execution_count": null,
   "metadata": {},
   "outputs": [],
   "source": []
  },
  {
   "cell_type": "code",
   "execution_count": 62,
   "metadata": {},
   "outputs": [],
   "source": [
    "# search ищет по всей строке, а match только в начале\n",
    "text = \"\"\"Что такое регулярные выражения и как их использовать? \n",
    "Говоря простым языком, регулярное выражение — это последовательность символов, используемая для поиска и замены текста в строке или файле. Как уже было упомянуто,\\\n",
    "их поддерживает множество языков общего назначения: Python, Perl, R.\n",
    "Так что изучение регулярных выражений рано или поздно пригодится.\"\"\"\n",
    "\n",
    "result = re.match(r'Python', text)\n",
    "result\n",
    "# print('Нашел' if result else 'Не нашел')"
   ]
  },
  {
   "cell_type": "code",
   "execution_count": 63,
   "metadata": {},
   "outputs": [
    {
     "output_type": "execute_result",
     "data": {
      "text/plain": [
       "<re.Match object; span=(0, 3), match='Что'>"
      ]
     },
     "metadata": {},
     "execution_count": 63
    }
   ],
   "source": [
    "re.match(r'Что', text)"
   ]
  },
  {
   "cell_type": "code",
   "execution_count": 64,
   "metadata": {},
   "outputs": [],
   "source": [
    "res = re.search(r'Python', text)\n",
    "# res.start(), res.end()\n",
    "# res.group()"
   ]
  },
  {
   "cell_type": "code",
   "execution_count": null,
   "metadata": {},
   "outputs": [],
   "source": []
  },
  {
   "cell_type": "code",
   "execution_count": 65,
   "metadata": {},
   "outputs": [],
   "source": [
    "# определим находится ли домен в зоне com\n",
    "domain = 'www.site.com'"
   ]
  },
  {
   "cell_type": "code",
   "execution_count": 66,
   "metadata": {},
   "outputs": [
    {
     "output_type": "execute_result",
     "data": {
      "text/plain": [
       "['www.site.com']"
      ]
     },
     "metadata": {},
     "execution_count": 66
    }
   ],
   "source": [
    "re.findall('www.+com', domain)"
   ]
  },
  {
   "cell_type": "code",
   "execution_count": 67,
   "metadata": {},
   "outputs": [],
   "source": [
    "# поищем только в начале и конце строки\n",
    "history_comment = '20 век был более опасным, чем 19 век'"
   ]
  },
  {
   "cell_type": "code",
   "execution_count": 68,
   "metadata": {},
   "outputs": [
    {
     "output_type": "execute_result",
     "data": {
      "text/plain": [
       "['20 век', '19 век']"
      ]
     },
     "metadata": {},
     "execution_count": 68
    }
   ],
   "source": [
    "re.findall(r'\\d{1,2}\\s\\век', history_comment)"
   ]
  },
  {
   "cell_type": "code",
   "execution_count": 69,
   "metadata": {},
   "outputs": [
    {
     "output_type": "execute_result",
     "data": {
      "text/plain": [
       "['20 век']"
      ]
     },
     "metadata": {},
     "execution_count": 69
    }
   ],
   "source": [
    "re.findall(r'^\\d{1,2}\\s\\век', history_comment)"
   ]
  },
  {
   "cell_type": "code",
   "execution_count": 70,
   "metadata": {},
   "outputs": [
    {
     "output_type": "execute_result",
     "data": {
      "text/plain": [
       "['19 век']"
      ]
     },
     "metadata": {},
     "execution_count": 70
    }
   ],
   "source": [
    "re.findall(r'\\d{1,2}\\s\\век$', history_comment)"
   ]
  },
  {
   "cell_type": "code",
   "execution_count": 71,
   "metadata": {},
   "outputs": [],
   "source": [
    "# экранирование. Разделим текст по точкам\n",
    "text = \"\"\"Что такое регулярные выражения и как их использовать? \n",
    "Говоря простым языком, регулярное выражение — это последовательность символов, используемая для поиска и замены текста в строке или файле. Как уже было упомянуто,\n",
    "их поддерживает множество языков общего назначения: Python, Perl, R.\n",
    "Так что изучение регулярных выражений рано или поздно пригодится.\"\"\""
   ]
  },
  {
   "cell_type": "code",
   "execution_count": 72,
   "metadata": {},
   "outputs": [
    {
     "output_type": "execute_result",
     "data": {
      "text/plain": [
       "['Что такое регулярные выражения и как их использовать? \\nГоворя простым языком, регулярное выражение — это последовательность символов, используемая для поиска и замены текста в строке или файле',\n",
       " 'Как уже было упомянуто,\\nих поддерживает множество языков общего назначения: Python, Perl, R',\n",
       " 'Так что изучение регулярных выражений рано или поздно пригодится.']"
      ]
     },
     "metadata": {},
     "execution_count": 72
    }
   ],
   "source": [
    "re.split(r'\\.\\s', text)"
   ]
  },
  {
   "cell_type": "code",
   "execution_count": 73,
   "metadata": {},
   "outputs": [
    {
     "output_type": "execute_result",
     "data": {
      "text/plain": [
       "['ноутбук', 'компьютер']"
      ]
     },
     "metadata": {},
     "execution_count": 73
    }
   ],
   "source": [
    "# ИЛИ\n",
    "market_search = 'Что лучше: ноутбук или компьютер?'\n",
    "re.findall('ноутбук|компьютер', market_search)"
   ]
  },
  {
   "cell_type": "code",
   "execution_count": 74,
   "metadata": {},
   "outputs": [
    {
     "output_type": "execute_result",
     "data": {
      "text/plain": [
       "['регулярные выражения', 'регулярное выражение', 'регулярных выражений']"
      ]
     },
     "metadata": {},
     "execution_count": 74
    }
   ],
   "source": [
    "# [] - найдем слово во всем склонениях\n",
    "text = \"\"\"Что такое регулярные выражения и как их использовать? \n",
    "Говоря простым языком, регулярное выражение — это последовательность символов, используемая для поиска и замены текста в строке или файле. Как уже было упомянуто,\n",
    "их поддерживает множество языков общего назначения: Python, Perl, R.\n",
    "Так что изучение регулярных выражений рано или поздно пригодится.\"\"\"\n",
    "pattern = 'регулярн[а-я]+ выражен[а-я]+'\n",
    "re.findall(pattern, text)"
   ]
  },
  {
   "cell_type": "code",
   "execution_count": 75,
   "metadata": {},
   "outputs": [],
   "source": [
    "websites = 'www.101.com  www.google.com'"
   ]
  },
  {
   "cell_type": "code",
   "execution_count": 76,
   "metadata": {},
   "outputs": [
    {
     "output_type": "execute_result",
     "data": {
      "text/plain": [
       "['www.google.com']"
      ]
     },
     "metadata": {},
     "execution_count": 76
    }
   ],
   "source": [
    "re.findall(r'www[^0-9]+com', websites)"
   ]
  },
  {
   "cell_type": "code",
   "execution_count": 77,
   "metadata": {},
   "outputs": [],
   "source": [
    "# ПРАКТИКА. Разделим текст по запятой и по точкам\n",
    "tweet_23 = 'Какое замечательное место! Обязательно вернусть сюда снова. Всем советую!!!'"
   ]
  },
  {
   "cell_type": "code",
   "execution_count": null,
   "metadata": {},
   "outputs": [],
   "source": []
  },
  {
   "cell_type": "code",
   "execution_count": 78,
   "metadata": {},
   "outputs": [],
   "source": [
    "# ПРАКТИКА. Напишите регулярку, которая отберет только валидный пароль по критериям:\n",
    "# - содержит латинские символы в верхнем и нижнем регистре;\n",
    "# - содержит числа;\n",
    "# - содержит символы из *, #, $, %, !, &, .;\n",
    "# - от 8 до 20 символов в длину;\n",
    "passwords = ['Apple34!rose', 'My87hou#4$', 'abc123']"
   ]
  },
  {
   "cell_type": "code",
   "execution_count": 79,
   "metadata": {},
   "outputs": [
    {
     "output_type": "stream",
     "name": "stdout",
     "text": [
      "The password Apple34!rose is a valid password\nThe password My87hou#4$ is a valid password\nThe password abc123 is a valid password\n"
     ]
    }
   ],
   "source": [
    "regex_pass = r''\n",
    "for password in passwords:\n",
    "    if re.match(regex_pass, password):\n",
    "        print('The password {} is a valid password'.format(password))\n",
    "    else:\n",
    "        print('The password {} is invalid'.format(password)) "
   ]
  },
  {
   "cell_type": "code",
   "execution_count": 80,
   "metadata": {},
   "outputs": [
    {
     "output_type": "execute_result",
     "data": {
      "text/plain": [
       "'Что такое regex и как их использовать? \\nГоворя простым языком, regex — это последовательность символов, используемая для поиска и замены текста в строке или файле. Как уже было упомянуто,\\nих поддерживает множество языков общего назначения: Python, Perl, R.\\nТак что изучение regex рано или поздно пригодится.'"
      ]
     },
     "metadata": {},
     "execution_count": 80
    }
   ],
   "source": [
    "# произведем замену на regex\n",
    "re.sub(r'регулярн[а-я]+ выражен[а-я]+', 'regex', text)"
   ]
  },
  {
   "cell_type": "code",
   "execution_count": null,
   "metadata": {},
   "outputs": [],
   "source": []
  },
  {
   "cell_type": "code",
   "execution_count": 81,
   "metadata": {},
   "outputs": [],
   "source": [
    "# скобочные группы\n",
    "# выделим группы символов из посадочного талона, где:\n",
    "# - первые 2 символа - это авиакомпания;\n",
    "# - 4 следующие символа - номер рейса;\n",
    "# - 3 следующих символа - аэропорт отправления;\n",
    "# - 3 следюущих - аэропорт прибытия;\n",
    "# - оставшиеся - дата рейса\n",
    "# Все буквы всегда в верхнем регистре"
   ]
  },
  {
   "cell_type": "code",
   "execution_count": 82,
   "metadata": {},
   "outputs": [],
   "source": [
    "flight = 'Boarding pass: LA4214 AER-CDB 06NOV'"
   ]
  },
  {
   "cell_type": "code",
   "execution_count": 83,
   "metadata": {},
   "outputs": [],
   "source": [
    "flight = 'Boarding pass: LA4214 AER-CDB 06NOV'\n",
    "regex_flight = r'([A-Z]{2})(\\d{4})\\s([A-Z]{3})-([A-Z]{3})\\s(\\d{2}[A-Z]{3})'"
   ]
  },
  {
   "cell_type": "code",
   "execution_count": 84,
   "metadata": {},
   "outputs": [],
   "source": [
    "flight_result = re.findall(regex_flight, flight)"
   ]
  },
  {
   "cell_type": "code",
   "execution_count": 85,
   "metadata": {},
   "outputs": [
    {
     "output_type": "stream",
     "name": "stdout",
     "text": [
      "[('LA', '4214', 'AER', 'CDB', '06NOV')]\n"
     ]
    }
   ],
   "source": [
    "print(flight_result)"
   ]
  },
  {
   "cell_type": "code",
   "execution_count": 95,
   "metadata": {},
   "outputs": [
    {
     "output_type": "stream",
     "name": "stdout",
     "text": [
      "('LA', '4214')\n"
     ]
    }
   ],
   "source": [
    "flight_match_result = re.search(regex_flight, flight)\n",
    "print(flight_match_result.group(1,2))"
   ]
  },
  {
   "cell_type": "code",
   "execution_count": 87,
   "metadata": {},
   "outputs": [
    {
     "output_type": "execute_result",
     "data": {
      "text/plain": [
       "['777', '5534']"
      ]
     },
     "metadata": {},
     "execution_count": 87
    }
   ],
   "source": [
    "# квантификатор внутри группы и после нее  – это совершенно разные вещи!\n",
    "numbers = 'Мои счастливые числа 777 и 5534'\n",
    "re.findall(r'\\d+', numbers)"
   ]
  },
  {
   "cell_type": "code",
   "execution_count": 88,
   "metadata": {},
   "outputs": [
    {
     "output_type": "execute_result",
     "data": {
      "text/plain": [
       "['7', '4']"
      ]
     },
     "metadata": {},
     "execution_count": 88
    }
   ],
   "source": [
    "re.findall(r'(\\d)+', numbers)\n",
    "# так происходит, потому что эти цифры последовательно повторяются 1 и более раз"
   ]
  },
  {
   "cell_type": "code",
   "execution_count": 89,
   "metadata": {},
   "outputs": [
    {
     "output_type": "execute_result",
     "data": {
      "text/plain": [
       "'30.08.1991'"
      ]
     },
     "metadata": {},
     "execution_count": 89
    }
   ],
   "source": [
    "# переведем даты к другому формату при помощи групп\n",
    "date = '08/30/1991'\n",
    "re.sub(r'(\\d\\d)/(\\d\\d)/(\\d{4})', r'\\2.\\1.\\3', date)"
   ]
  },
  {
   "cell_type": "code",
   "execution_count": 90,
   "metadata": {},
   "outputs": [],
   "source": [
    "# удалим повторяющиеся числа\n",
    "numbers = '44444 6666 8888'"
   ]
  },
  {
   "cell_type": "code",
   "execution_count": 91,
   "metadata": {},
   "outputs": [
    {
     "output_type": "execute_result",
     "data": {
      "text/plain": [
       "'4 6 8'"
      ]
     },
     "metadata": {},
     "execution_count": 91
    }
   ],
   "source": [
    "re.sub(r'(\\d)+', r'\\1', numbers)"
   ]
  },
  {
   "cell_type": "code",
   "execution_count": null,
   "metadata": {},
   "outputs": [],
   "source": []
  },
  {
   "cell_type": "code",
   "execution_count": 92,
   "metadata": {},
   "outputs": [
    {
     "output_type": "execute_result",
     "data": {
      "text/plain": [
       "['понравился']"
      ]
     },
     "metadata": {},
     "execution_count": 92
    }
   ],
   "source": [
    "#non-captureing groups\n",
    "# попробуем достать оценочные слова, которые стоят перед \"фильм, кино\"\n",
    "review = 'Мне очень понравился этот фильм! Понравилось еще расположение кинотеатра, очень удобное!!!'\n",
    "regex_negative = r'(понравился|понравилось).+(?:фильм|кино).+'\n",
    "negative_matches = re.findall(regex_negative, review)\n",
    "negative_matches"
   ]
  },
  {
   "cell_type": "code",
   "execution_count": 93,
   "metadata": {},
   "outputs": [
    {
     "output_type": "execute_result",
     "data": {
      "text/plain": [
       "['33.txt']"
      ]
     },
     "metadata": {},
     "execution_count": 93
    }
   ],
   "source": [
    "# lookaround. Достанем имена только загруженных файлов\n",
    "report = 'файл 11.txt загружен, файл 22.txt загружен, файл 33.txt ошибка'\n",
    "find_downloaded = r'\\d+\\.txt(?=\\sзагружен)'\n",
    "files_error = r'\\d+\\.txt(?!\\sзагружен)'\n",
    "re.findall(find_downloaded, report)\n",
    "re.findall(files_error, report)"
   ]
  },
  {
   "cell_type": "code",
   "execution_count": 94,
   "metadata": {},
   "outputs": [],
   "source": [
    "# ПРАКТИКА. Получить только рублевые цены\n",
    "prices = 'RUB4.44, RUB10.88, EUR0.99, RUB99.99'"
   ]
  }
 ],
 "metadata": {
  "kernelspec": {
   "display_name": "Python 3",
   "language": "python",
   "name": "python3"
  },
  "language_info": {
   "codemirror_mode": {
    "name": "ipython",
    "version": 3
   },
   "file_extension": ".py",
   "mimetype": "text/x-python",
   "name": "python",
   "nbconvert_exporter": "python",
   "pygments_lexer": "ipython3",
   "version": "3.7.6-final"
  }
 },
 "nbformat": 4,
 "nbformat_minor": 2
}