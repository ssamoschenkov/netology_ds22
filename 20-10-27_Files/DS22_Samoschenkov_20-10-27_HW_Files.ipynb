{
 "cells": [
  {
   "cell_type": "code",
   "execution_count": 9,
   "metadata": {},
   "outputs": [
    {
     "output_type": "error",
     "ename": "SyntaxError",
     "evalue": "invalid character in identifier (<ipython-input-9-fda7e9645325>, line 14)",
     "traceback": [
      "\u001b[1;36m  File \u001b[1;32m\"<ipython-input-9-fda7e9645325>\"\u001b[1;36m, line \u001b[1;32m14\u001b[0m\n\u001b[1;33m    i = 0\u001b[0m\n\u001b[1;37m     ^\u001b[0m\n\u001b[1;31mSyntaxError\u001b[0m\u001b[1;31m:\u001b[0m invalid character in identifier\n"
     ]
    }
   ],
   "source": [
    "# ** Домашнее задание по лекции находится во вкладке Материалы к лекции Работа с файловой системой и модули, в конце файла с кодом (задача на доработку темы занятия).\n",
    "# Готовое решение необходимо прикрепить в эту вкладку.**\n",
    "\n",
    "# Домашнее задание\n",
    "\n",
    "# Переведите содержимое файла purchase_log.txt в словарь purchases вида:\n",
    "# {‘1840e0b9d4’: ‘Продукты’, …}\n",
    "\n",
    "# Для каждого user_id в файле visit_log.csv определите третий столбец с категорией покупки (если покупка была, сам файл visit_log.csv изменять не надо). Запишите в файл funnel.csv визиты из файла visit_log.csv, в которых были покупки с указанием категории.\n",
    "# Учтите условия на данные:\n",
    "# содержимое purchase_log.txt помещается в оперативную память компьютера\n",
    "# содержимое visit_log.csv - нет; используйте только построчную обработку этого файла\n",
    "\n",
    "i = 0\n",
    "\n",
    "import json  \n",
    "\n",
    "with open('Downloads\\purchase_log.txt', 'r', encoding='utf-8) as f:\n",
    "    for line in f:\n",
    "        line = line.strip()\n",
    "        dict_ = json.loads(line)\n",
    "        print(dict_, type(dict_))\n",
    "        i += 1\n",
    "        if i > 5:\n",
    "            break"
   ]
  },
  {
   "cell_type": "code",
   "execution_count": null,
   "metadata": {},
   "outputs": [],
   "source": []
  }
 ],
 "metadata": {
  "kernelspec": {
   "display_name": "Python 3",
   "language": "python",
   "name": "python3"
  },
  "language_info": {
   "codemirror_mode": {
    "name": "ipython",
    "version": 3
   },
   "file_extension": ".py",
   "mimetype": "text/x-python",
   "name": "python",
   "nbconvert_exporter": "python",
   "pygments_lexer": "ipython3",
   "version": "3.7.6-final"
  }
 },
 "nbformat": 4,
 "nbformat_minor": 4
}