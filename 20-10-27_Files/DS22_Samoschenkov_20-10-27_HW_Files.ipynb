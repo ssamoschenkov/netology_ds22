{
 "cells": [
  {
   "cell_type": "code",
   "execution_count": 151,
   "metadata": {
    "tags": []
   },
   "outputs": [
    {
     "output_type": "stream",
     "name": "stdout",
     "text": [
      "[('1840e0b9d4', 'Продукты'), ('4e4f90fcfb', 'Электроника'), ('afea8d72fc', 'Электроника'), ('373a6055fe', 'Бытовая техника'), ('9b2ab046f3', 'Электроника'), ('9f39d307c3', 'Электроника'), ('44edeffc91', 'Продукты'), ('704474fa2d', 'Продукты'), ('1de31be403', 'Бытовая техника'), ('b71f36a5e4', 'Продукты')]\n"
     ]
    }
   ],
   "source": [
    "# DS22 - Самощенков Сергей\n",
    "# Домашнее задание к лекции Работа с файловой системой и модули\n",
    "\n",
    "# Задача 1\n",
    "# Переведите содержимое файла purchase_log.txt в словарь purchases вида:\n",
    "# {‘1840e0b9d4’: ‘Продукты’, …}\n",
    "# содержимое purchase_log.txt помещается в оперативную память компьютера\n",
    "\n",
    "import json\n",
    "purchase=dict()\n",
    "\n",
    "with open('Downloads\\purchase_log.txt', 'r', encoding='utf-8') as f:\n",
    "    content = f.readlines()\n",
    "    f.close\n",
    "    \n",
    "    content_list = [json.loads(el.strip()) for el in content[1:]] \n",
    "    [purchase.setdefault(item['user_id'], item['category']) for item in content_list]\n",
    "\n",
    "    print(list(purchase.items())[:10])\n",
    "\n",
    "# Задача 2\n",
    "# Для каждого user_id в файле visit_log.csv определите третий столбец с категорией покупки (если покупка была, сам файл visit_log.csv изменять не надо). Запишите в файл funnel.csv визиты из файла visit_log.csv, в которых были покупки с указанием категории.\n",
    "# содержимое visit_log.csv - нет; используйте только построчную обработку этого файла\n",
    "\n",
    "with open('Downloads\\\\visit_log.csv', 'r', encoding='utf-8') as f:\n",
    "\n",
    "    with open('Downloads\\\\funnel.csv', 'w', encoding='utf-8') as f2write:\n",
    "        \n",
    "        for i, line in enumerate(f):\n",
    "            visit_user_id, visit_source = line.strip('').strip('\\n').split(',')\n",
    "            \n",
    "            if visit_user_id in purchase:\n",
    "                f2write.write(visit_user_id + ',' + visit_source + ',' + purchase[visit_user_id] + '\\n')\n",
    "        \n",
    "        f2write.close\n",
    "\n",
    "    f.close\n",
    "\n",
    "\n",
    "\n",
    "       "
   ]
  },
  {
   "cell_type": "code",
   "execution_count": null,
   "metadata": {},
   "outputs": [],
   "source": []
  }
 ],
 "metadata": {
  "kernelspec": {
   "display_name": "Python 3",
   "language": "python",
   "name": "python3"
  },
  "language_info": {
   "codemirror_mode": {
    "name": "ipython",
    "version": 3
   },
   "file_extension": ".py",
   "mimetype": "text/x-python",
   "name": "python",
   "nbconvert_exporter": "python",
   "pygments_lexer": "ipython3",
   "version": "3.7.6-final"
  }
 },
 "nbformat": 4,
 "nbformat_minor": 4
}