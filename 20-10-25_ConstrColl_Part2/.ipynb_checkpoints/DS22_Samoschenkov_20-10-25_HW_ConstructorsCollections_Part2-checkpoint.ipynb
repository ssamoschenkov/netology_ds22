{
 "cells": [
  {
   "cell_type": "code",
   "execution_count": 12,
   "metadata": {},
   "outputs": [
    {
     "name": "stdout",
     "output_type": "stream",
     "text": [
      "Салат\n",
      "картофель 500 rp.\n",
      "морковь 250 rp.\n",
      "огурцы 250 rp.\n",
      "горошек 150 rp.\n",
      "майонез 350 мл.\n",
      "\n",
      "\n",
      "Пицца\n",
      "сыр 250 гр.\n",
      "томаты 250 rp.\n",
      "тесто 500 rp.\n",
      "Соком 150 rp.\n",
      "колбаса 150 rp.\n",
      "грибы 100 rp.\n",
      "\n",
      "\n",
      "Фруктовый десерт\n",
      "хурма 300 гр.\n",
      "киви 300 rp.\n",
      "творог 300 гр.\n",
      "сахар 50 гр.\n",
      "мед 250 мл.\n",
      "\n",
      "\n"
     ]
    }
   ],
   "source": [
    "cook_book = [\n",
    "    ['салат',\n",
    "        [\n",
    "            ['картофель', 100,\t'rp.'],\n",
    "            ['морковь', 50,\t'rp.'],\n",
    "            ['огурцы', 50, 'rp.'],\n",
    "            ['горошек', 30, 'rp.'], \n",
    "            ['майонез', 70, 'мл.']\n",
    "        ]\n",
    "    ],\n",
    "    ['пицца',\n",
    "        [\n",
    "            ['сыр', 50, 'гр.'], \n",
    "            ['томаты', 50,\t'rp.'],\n",
    "            ['тесто', 100, 'rp.'],\n",
    "            ['Соком', 30, 'rp.'],\n",
    "            ['колбаса', 30, 'rp.'],\n",
    "            ['грибы', 20,'rp.']\n",
    "        ]\n",
    "    ],\n",
    "    ['фруктовый десерт',\n",
    "        [   \n",
    "            ['хурма', 60,\t'гр.'],\n",
    "            ['киви', 60, 'rp.'],\n",
    "            ['творог', 60,\t'гр.'],\n",
    "            ['сахар', 10, 'гр.'], \n",
    "            ['мед', 50, 'мл.'],\n",
    "        ]\n",
    "    ]\n",
    "]\n",
    "\n",
    "person=5\n",
    "\n",
    "for item in cook_book:\n",
    "    print(item[0].capitalize())\n",
    "    # print (item[1])\n",
    "\n",
    "    for line in item[1]:\n",
    "        meal, weight, gr = line\n",
    "        weight = weight * person\n",
    "        print(meal, weight, gr)\n",
    "    print('\\n')\n",
    "    # break\n"
   ]
  },
  {
   "cell_type": "code",
   "execution_count": 4,
   "metadata": {},
   "outputs": [
    {
     "ename": "SyntaxError",
     "evalue": "invalid character in identifier (<ipython-input-4-c122a13e8b16>, line 18)",
     "output_type": "error",
     "traceback": [
      "\u001b[1;36m  File \u001b[1;32m\"<ipython-input-4-c122a13e8b16>\"\u001b[1;36m, line \u001b[1;32m18\u001b[0m\n\u001b[1;33m    sum([x[2] for x in api_response])\u001b[0m\n\u001b[1;37m                                  ^\u001b[0m\n\u001b[1;31mSyntaxError\u001b[0m\u001b[1;31m:\u001b[0m invalid character in identifier\n"
     ]
    }
   ],
   "source": [
    "api_response = [\n",
    "    ['2017-12-26', '777', 184],\n",
    "    ['2017-12-27', '111', 146],\n",
    "    ['2017-12-28', '777', 98],\n",
    "    ['2017-12-29', '777', 206],\n",
    "    ['2017-12-30', '111', 254],\n",
    "    ['2017-12-31', '777', 89],\n",
    "    ['2018-01-01', '111', 54],\n",
    "    ['2018-01-02', '777', 68],\n",
    "    ['2018-01-03', '777', 74],\n",
    "    ['2018-01-04', '111', 89],\n",
    "    ['2018-01-05', '777', 104],\n",
    "    ['2018-01-06', '777', 99],\n",
    "    ['2018-01-07', '777', 145],\n",
    "    ['2018-01-08', '111', 184],\n",
    "]\n",
    "\n",
    "sum([x[2] for x in api_response])"
   ]
  },
  {
   "cell_type": "code",
   "execution_count": null,
   "metadata": {},
   "outputs": [],
   "source": []
  }
 ],
 "metadata": {
  "kernelspec": {
   "display_name": "Python 3",
   "language": "python",
   "name": "python3"
  },
  "language_info": {
   "codemirror_mode": {
    "name": "ipython",
    "version": 3
   },
   "file_extension": ".py",
   "mimetype": "text/x-python",
   "name": "python",
   "nbconvert_exporter": "python",
   "pygments_lexer": "ipython3",
   "version": "3.7.6"
  }
 },
 "nbformat": 4,
 "nbformat_minor": 4
}
