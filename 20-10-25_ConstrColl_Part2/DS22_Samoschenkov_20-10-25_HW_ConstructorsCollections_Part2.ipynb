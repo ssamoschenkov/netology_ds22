{
 "cells": [
  {
   "cell_type": "code",
   "execution_count": 73,
   "metadata": {},
   "outputs": [
    {
     "output_type": "stream",
     "name": "stdout",
     "text": [
      "{98, 35, 15, 213, 54, 119}\n{98, 35, 15, 213, 54, 119}\n"
     ]
    }
   ],
   "source": [
    "# DS22 - Самощенков Сергей\n",
    "# Домашнее задание к лекции \"Введение в типы данных и циклы. Часть 2\"\n",
    "\n",
    "# Задание 1\n",
    "# Дана переменная, в которой хранится словарь, содержащий гео-метки для каждого пользователя (пример структуры данных приведен ниже). Вам необходимо написать программу, которая выведет на экран множество уникальных гео-меток всех пользователей.\n",
    "\n",
    "# Результат: {98, 35, 15, 213, 54, 119}\n",
    "\n",
    "ids = {'user1': [213, 213, 213, 15, 213], \n",
    "       'user2': [54, 54, 119, 119, 119], \n",
    "       'user3': [213, 98, 98, 35]}\n",
    "\n",
    "#Вариант 1\n",
    "uniq_items=[]\n",
    "\n",
    "for item in ids.values():\n",
    "    uniq_items += item \n",
    "print(set(uniq_items))\n",
    "\n",
    "# Вариант 2 - list comprehension\n",
    "[uniq_items.extend(item) for item in ids.values()]\n",
    "print(set(uniq_items))\n"
   ]
  },
  {
   "cell_type": "code",
   "execution_count": 102,
   "metadata": {},
   "outputs": [
    {
     "output_type": "stream",
     "name": "stdout",
     "text": [
      "Поисковых запросов, содержащих 2 слов(а): 42.86%\nПоисковых запросов, содержащих 3 слов(а): 57.14%\n"
     ]
    }
   ],
   "source": [
    "# Задание 2\n",
    "# Дана переменная, в которой хранится список поисковых запросов пользователя (пример структуры данных приведен ниже). Вам необходимо написать программу, которая выведет на экран распределение количества слов в запросах в требуемом виде.\n",
    "\n",
    "# Результат:\n",
    "# Поисковых запросов, содержащих 2 слов(а): 42.86%\n",
    "# Поисковых запросов, содержащих 3 слов(а): 57.14%\n",
    "\n",
    "queries = [\n",
    "    'смотреть сериалы онлайн',\n",
    "    'новости спорта',\n",
    "    'афиша кино',\n",
    "    'курс доллара',\n",
    "    'сериалы этим летом',\n",
    "    'курс по питону',\n",
    "    'сериалы про спорт',\n",
    "]\n",
    "\n",
    "# words_count=[]\n",
    "# for i,item in enumerate(queries):\n",
    "#     # print(i+1, item, len(item.split(' ')))\n",
    "#     words_count.append(len(item.split(' ')))\n",
    "# print(words_count)\n",
    "\n",
    "words_count = [len(item.split(' ')) for item in queries]\n",
    "uniq_words_count=set(words_count)\n",
    "\n",
    "for uniq_words_count_item in uniq_words_count:\n",
    "    uniq_word_percent = words_count.count(uniq_words_count_item)/len(words_count)*100\n",
    "    print(f'Поисковых запросов, содержащих {uniq_words_count_item} слов(а): {\"%.2f%%\" % (uniq_word_percent)}')\n"
   ]
  },
  {
   "cell_type": "code",
   "execution_count": 118,
   "metadata": {},
   "outputs": [
    {
     "output_type": "stream",
     "name": "stdout",
     "text": [
      "{'vk': {'revenue': 103, 'cost': 98, 'ROI': 5.1}, 'yandex': {'revenue': 179, 'cost': 153, 'ROI': 16.99}, 'facebook': {'revenue': 103, 'cost': 110, 'ROI': -6.36}, 'adwords': {'revenue': 35, 'cost': 34, 'ROI': 2.94}, 'twitter': {'revenue': 11, 'cost': 24, 'ROI': -54.17}}\n"
     ]
    }
   ],
   "source": [
    "# Задание 3\n",
    "# Дана переменная, в которой хранится информация о затратах и доходе рекламных кампаний по различным источникам. Необходимо дополнить исходную структуру показателем ROI, который рассчитаем по формуле: (revenue / cost - 1) * 100\n",
    "\n",
    "# Результат:\n",
    "# {'adwords': {'ROI': 2.94, 'cost': 34, 'revenue': 35},\n",
    "#  'facebook': {'ROI': -6.36, 'cost': 110, 'revenue': 103},\n",
    "#  'twitter': {'ROI': -54.17, 'cost': 24, 'revenue': 11},\n",
    "#  'vk': {'ROI': 5.1, 'cost': 98, 'revenue': 103},\n",
    "#  'yandex': {'ROI': 16.99, 'cost': 153, 'revenue': 179}}\n",
    "\n",
    "results = {\n",
    "    'vk': {'revenue': 103, 'cost': 98},\n",
    "    'yandex': {'revenue': 179, 'cost': 153},\n",
    "    'facebook': {'revenue': 103, 'cost': 110},\n",
    "    'adwords': {'revenue': 35, 'cost': 34},\n",
    "    'twitter': {'revenue': 11, 'cost': 24},\n",
    "}\n",
    "\n",
    "for item in results.values():\n",
    "    item['ROI'] = round((item['revenue']-item['cost'])/item['cost']*100,2)\n",
    "\n",
    "print(results)"
   ]
  },
  {
   "cell_type": "code",
   "execution_count": 126,
   "metadata": {},
   "outputs": [
    {
     "output_type": "stream",
     "name": "stdout",
     "text": [
      "Максимальный объем продаж на рекламном канале: vk\n"
     ]
    }
   ],
   "source": [
    "# Задание 4\n",
    "# Дана переменная, в которой хранится статистика рекламных каналов по объемам продаж (пример структуры данных приведен ниже). Напишите программу, которая возвращает название канала с максимальным объемом продаж.\n",
    "\n",
    "# Результат: Максимальный объем продаж на рекламном канале: vk\n",
    "\n",
    "stats = {'facebook': 55, 'yandex': 115, 'vk': 120, 'google': 99, 'email': 42, 'ok': 98}\n",
    "print(f'Максимальный объем продаж на рекламном канале: {max(stats, key=stats.get)}')\n"
   ]
  },
  {
   "cell_type": "code",
   "execution_count": null,
   "metadata": {},
   "outputs": [],
   "source": []
  }
 ],
 "metadata": {
  "kernelspec": {
   "display_name": "Python 3",
   "language": "python",
   "name": "python3"
  },
  "language_info": {
   "codemirror_mode": {
    "name": "ipython",
    "version": 3
   },
   "file_extension": ".py",
   "mimetype": "text/x-python",
   "name": "python",
   "nbconvert_exporter": "python",
   "pygments_lexer": "ipython3",
   "version": "3.7.6-final"
  }
 },
 "nbformat": 4,
 "nbformat_minor": 4
}