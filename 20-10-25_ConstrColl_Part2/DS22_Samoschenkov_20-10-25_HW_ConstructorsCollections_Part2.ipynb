{
 "cells": [
  {
   "cell_type": "code",
   "execution_count": 12,
   "metadata": {},
   "outputs": [
    {
     "name": "stdout",
     "output_type": "stream",
     "text": [
      "Салат\n",
      "картофель 500 rp.\n",
      "морковь 250 rp.\n",
      "огурцы 250 rp.\n",
      "горошек 150 rp.\n",
      "майонез 350 мл.\n",
      "\n",
      "\n",
      "Пицца\n",
      "сыр 250 гр.\n",
      "томаты 250 rp.\n",
      "тесто 500 rp.\n",
      "Соком 150 rp.\n",
      "колбаса 150 rp.\n",
      "грибы 100 rp.\n",
      "\n",
      "\n",
      "Фруктовый десерт\n",
      "хурма 300 гр.\n",
      "киви 300 rp.\n",
      "творог 300 гр.\n",
      "сахар 50 гр.\n",
      "мед 250 мл.\n",
      "\n",
      "\n"
     ]
    }
   ],
   "source": [
    "cook_book = [\n",
    "    ['салат',\n",
    "        [\n",
    "            ['картофель', 100,\t'rp.'],\n",
    "            ['морковь', 50,\t'rp.'],\n",
    "            ['огурцы', 50, 'rp.'],\n",
    "            ['горошек', 30, 'rp.'], \n",
    "            ['майонез', 70, 'мл.']\n",
    "        ]\n",
    "    ],\n",
    "    ['пицца',\n",
    "        [\n",
    "            ['сыр', 50, 'гр.'], \n",
    "            ['томаты', 50,\t'rp.'],\n",
    "            ['тесто', 100, 'rp.'],\n",
    "            ['Соком', 30, 'rp.'],\n",
    "            ['колбаса', 30, 'rp.'],\n",
    "            ['грибы', 20,'rp.']\n",
    "        ]\n",
    "    ],\n",
    "    ['фруктовый десерт',\n",
    "        [   \n",
    "            ['хурма', 60,\t'гр.'],\n",
    "            ['киви', 60, 'rp.'],\n",
    "            ['творог', 60,\t'гр.'],\n",
    "            ['сахар', 10, 'гр.'], \n",
    "            ['мед', 50, 'мл.'],\n",
    "        ]\n",
    "    ]\n",
    "]\n",
    "\n",
    "person=5\n",
    "\n",
    "for item in cook_book:\n",
    "    print(item[0].capitalize())\n",
    "    # print (item[1])\n",
    "\n",
    "    for line in item[1]:\n",
    "        meal, weight, gr = line\n",
    "        weight = weight * person\n",
    "        print(meal, weight, gr)\n",
    "    print('\\n')\n",
    "    # break\n"
   ]
  },
  {
   "cell_type": "code",
   "execution_count": 4,
   "metadata": {},
   "outputs": [
    {
     "ename": "SyntaxError",
     "evalue": "invalid character in identifier (<ipython-input-4-c122a13e8b16>, line 18)",
     "output_type": "error",
     "traceback": [
      "\u001b[1;36m  File \u001b[1;32m\"<ipython-input-4-c122a13e8b16>\"\u001b[1;36m, line \u001b[1;32m18\u001b[0m\n\u001b[1;33m    sum([x[2] for x in api_response])\u001b[0m\n\u001b[1;37m                                  ^\u001b[0m\n\u001b[1;31mSyntaxError\u001b[0m\u001b[1;31m:\u001b[0m invalid character in identifier\n"
     ]
    }
   ],
   "source": [
    "api_response = [\n",
    "    ['2017-12-26', '777', 184],\n",
    "    ['2017-12-27', '111', 146],\n",
    "    ['2017-12-28', '777', 98],\n",
    "    ['2017-12-29', '777', 206],\n",
    "    ['2017-12-30', '111', 254],\n",
    "    ['2017-12-31', '777', 89],\n",
    "    ['2018-01-01', '111', 54],\n",
    "    ['2018-01-02', '777', 68],\n",
    "    ['2018-01-03', '777', 74],\n",
    "    ['2018-01-04', '111', 89],\n",
    "    ['2018-01-05', '777', 104],\n",
    "    ['2018-01-06', '777', 99],\n",
    "    ['2018-01-07', '777', 145],\n",
    "    ['2018-01-08', '111', 184],\n",
    "]\n",
    "\n",
    "sum([x[2] for x in api_response])"
   ]
  },
  {
   "cell_type": "code",
   "execution_count": 12,
   "metadata": {},
   "outputs": [
    {
     "output_type": "execute_result",
     "data": {
      "text/plain": [
       "76.21428571428571"
      ]
     },
     "metadata": {},
     "execution_count": 12
    }
   ],
   "source": [
    "# Найдем среднее количество визитов по нашим данным\n",
    "api_response = [\n",
    "    ['2017-12-26', '777', 184],\n",
    "    ['2017-12-27', '111', 146],\n",
    "    ['2017-12-28', '777', 98],\n",
    "    ['2017-12-29', '777', 206],\n",
    "    ['2017-12-30', '111', 254],\n",
    "    ['2017-12-31', '777', 89],\n",
    "    ['2018-01-01', '111', 54],\n",
    "    ['2018-01-02', '777', 68],\n",
    "    ['2018-01-03', '777', 74],\n",
    "    ['2018-01-04', '111', 89],\n",
    "    ['2018-01-05', '777', 104],\n",
    "    ['2018-01-06', '777', 99],\n",
    "    ['2018-01-07', '777', 145],\n",
    "    ['2018-01-08', '111', 184],\n",
    "]\n",
    "\n",
    "sum([item[2] for item in api_response if item[1]=='777'])/len(api_response)"
   ]
  },
  {
   "cell_type": "code",
   "execution_count": 15,
   "metadata": {},
   "outputs": [],
   "source": [
    "\n",
    "salaries = {\n",
    "    'John': 1200,\n",
    "    'Mary': 500,\n",
    "    'Steven': 1000,\n",
    "    'Liza': 1500\n",
    "}"
   ]
  },
  {
   "cell_type": "code",
   "execution_count": 45,
   "metadata": {},
   "outputs": [
    {
     "output_type": "stream",
     "name": "stdout",
     "text": [
      "[213, 213, 213, 15, 213] <class 'list'>\n[54, 54, 119, 119, 119] <class 'list'>\n[213, 98, 98, 35] <class 'list'>\n[(213, (54, (213, (213, (54, (213, (213, (54, (213, 1)))))))))]\n"
     ]
    }
   ],
   "source": [
    "# Домашнее задание к лекции \"Введение в типы данных и циклы. Часть 2\"\n",
    "# Задание 1\n",
    "# Дана переменная, в которой хранится словарь, содержащий гео-метки для каждого пользователя (пример структуры данных приведен ниже). Вам необходимо написать программу, которая выведет на экран множество уникальных гео-меток всех пользователей.\n",
    "\n",
    "\n",
    "ids = {'user1': [213, 213, 213, 15, 213], \n",
    "       'user2': [54, 54, 119, 119, 119], \n",
    "       'user3': [213, 98, 98, 35]}\n",
    "# Результат: {98, 35, 15, 213, 54, 119}\n",
    "# uniq_items=[,]\n",
    "for item in ids.values():\n",
    "    # print(item)\n",
    "    # print(list(zip(item,uniq_items))\n",
    "    uniq_items = list(zip(item, uniq_items))\n",
    "    print(item, type(item))\n",
    "    # print(list(zip(item,uniq_items)))\n",
    "print(uniq_items)"
   ]
  },
  {
   "cell_type": "code",
   "execution_count": 46,
   "metadata": {},
   "outputs": [
    {
     "output_type": "stream",
     "name": "stdout",
     "text": [
      "[213, 213, 213, 15, 213] <class 'list'>\n[54, 54, 119, 119, 119] <class 'list'>\n[213, 98, 98, 35] <class 'list'>\n[213, 98, 98, 35, 54, 54, 119, 119, 119, 213, 213, 213, 15, 213, (213, (54, (213, (213, (54, (213, (213, (54, (213, 1)))))))))]\n"
     ]
    }
   ],
   "source": [
    "ids = {'user1': [213, 213, 213, 15, 213], \n",
    "       'user2': [54, 54, 119, 119, 119], \n",
    "       'user3': [213, 98, 98, 35]}\n",
    "# Результат: {98, 35, 15, 213, 54, 119}\n",
    "# uniq_items=[,]\n",
    "for item in ids.values():\n",
    "    # print(item)\n",
    "    # print(list(zip(item,uniq_items))\n",
    "    uniq_items = item + uniq_items\n",
    "    print(item, type(item))\n",
    "    # print(list(zip(item,uniq_items)))\n",
    "print(uniq_items)"
   ]
  },
  {
   "cell_type": "code",
   "execution_count": null,
   "metadata": {},
   "outputs": [],
   "source": []
  }
 ],
 "metadata": {
  "kernelspec": {
   "display_name": "Python 3",
   "language": "python",
   "name": "python3"
  },
  "language_info": {
   "codemirror_mode": {
    "name": "ipython",
    "version": 3
   },
   "file_extension": ".py",
   "mimetype": "text/x-python",
   "name": "python",
   "nbconvert_exporter": "python",
   "pygments_lexer": "ipython3",
   "version": "3.7.6-final"
  }
 },
 "nbformat": 4,
 "nbformat_minor": 4
}