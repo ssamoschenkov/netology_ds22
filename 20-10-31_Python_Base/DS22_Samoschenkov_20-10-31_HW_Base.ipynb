{
 "cells": [
  {
   "cell_type": "code",
   "execution_count": 1,
   "metadata": {},
   "outputs": [
    {
     "output_type": "stream",
     "name": "stdout",
     "text": [
      "Фраза 1 длиннее фразы 2\n"
     ]
    }
   ],
   "source": [
    "# DS22 Самощенков Сергей\n",
    "# Домашнее задание к лекции \"Основы Python\"\n",
    "\n",
    "# Задание 1\n",
    "# Даны 2 переменных, в которых хранятся строки произвольной длины: phrase_1 и phrase_2.\n",
    "# Напишите код, который проверяет какая из этих строк длиннее.\n",
    "\n",
    "# Примеры работы программы:\n",
    "\n",
    "# phrase_1 = 'Насколько проще было бы писать программы, если бы не заказчики'\n",
    "# phrase_2 = '640Кб должно хватить для любых задач. Билл Гейтс (по легенде)'\n",
    "# Результат:\n",
    "# Фраза 1 длиннее фразы 2\n",
    "\n",
    "# phrase_1 = '640Кб должно хватить для любых задач. Билл Гейтс (по легенде)'\n",
    "# phrase_2 = 'Насколько проще было бы писать программы, если бы не заказчики'\n",
    "# Результат:\n",
    "# Фраза 2 длиннее фразы 1\n",
    "\n",
    "# phrase_1 = 'Насколько проще было бы писать программы, если бы не заказчики'\n",
    "# phrase_2 = 'Насколько проще было бы писать программы, если бы не заказчики'\n",
    "# Результат:\n",
    "# Фразы равной длины\n",
    "\n",
    "phrase_1 = 'Насколько проще было бы писать программы, если бы не заказчики'\n",
    "phrase_2 = '640Кб должно хватить для любых задач. Билл Гейтс (по легенде)'\n",
    "\n",
    "if len(phrase_1)>len(phrase_2):\n",
    "    print('Фраза 1 длиннее фразы 2')\n",
    "elif len(phrase_1)<len(phrase_2):\n",
    "    print('Фраза 2 длиннее фразы 1')\n",
    "else:\n",
    "    print('Фразы равной длины')"
   ]
  },
  {
   "cell_type": "code",
   "execution_count": 2,
   "metadata": {},
   "outputs": [
    {
     "output_type": "stream",
     "name": "stdout",
     "text": [
      "Результат:\nВисокосный год\n"
     ]
    }
   ],
   "source": [
    "# Задание 2\n",
    "# Дана переменная, в которой хранится четырехзначное число (год). Необходимо написать программу, которая выведет, является ли данный год високосным или обычным.\n",
    "\n",
    "# Пример работы программы:\n",
    "# year = 2020\n",
    "# Результат:\n",
    "# Високосный год\n",
    "\n",
    "# year = 2019\n",
    "# Результат:\n",
    "# Обычный год\n",
    "\n",
    "year = 2020\n",
    "\n",
    "print('Результат:')\n",
    "if year%4 == 0:\n",
    "    print('Високосный год')\n",
    "else:\n",
    "    print('Обычный год')\n",
    "\n",
    "\n"
   ]
  },
  {
   "cell_type": "code",
   "execution_count": 11,
   "metadata": {},
   "outputs": [
    {
     "output_type": "stream",
     "name": "stdout",
     "text": [
      "Результат:\nВаш знак зодиака: Близнецы\n"
     ]
    }
   ],
   "source": [
    "# Задание 3\n",
    "# Необходимо написать программу, которая будет запрашивать у пользователя месяц и дату рождения и выводить соответствующий знак зодиака.\n",
    "\n",
    "# Пример работы программы:\n",
    "# Введите день:\n",
    "# 30\n",
    "# Введите месяц:\n",
    "# Август\n",
    "# Результат:\n",
    "# Ваш знак зодиака: Дева\n",
    "\n",
    "# Введите день:\n",
    "# 29\n",
    "# Введите месяц:\n",
    "# Октябрь\n",
    "# Результат:\n",
    "# Ваш знак зодиака: Скорпион\n",
    "\n",
    "bd_day = int(input('Введите день:'))\n",
    "bd_month = int(input('Введите месяц:'))\n",
    "zodiac=''\n",
    "\n",
    "if ((bd_month==3) and (bd_day>=21)) or ((bd_month==4) and (bd_day<=19)):\n",
    "    zodiac = 'Овен'\n",
    "elif ((bd_month==4) and (bd_day>=20)) or ((bd_month==5) and (bd_day<=20)) :\n",
    "    zodiac = 'Телец'\n",
    "elif ((bd_month==5) and (bd_day>=21)) or ((bd_month==6) and (bd_day<=20)) :\n",
    "    zodiac = 'Близнецы'\n",
    "elif ((bd_month==6) and (bd_day>=21)) or ((bd_month==7) and (bd_day<=22)) :\n",
    "    zodiac = 'Рак'\n",
    "elif ((bd_month==7) and (bd_day>=23)) or ((bd_month==8) and (bd_day<=22)) :\n",
    "    zodiac = 'Лев'\n",
    "elif ((bd_month==8) and (bd_day>=23)) or ((bd_month==9) and (bd_day<=22)) :\n",
    "    zodiac = 'Дева'\n",
    "elif ((bd_month==9) and (bd_day>=23)) or ((bd_month==10) and (bd_day<=22)) :\n",
    "    zodiac = 'Весы'\n",
    "elif ((bd_month==10) and (bd_day>=23)) or ((bd_month==11) and (bd_day<=21)) :\n",
    "    zodiac = 'Скорпион'\n",
    "elif ((bd_month==11) and (bd_day>=22)) or ((bd_month==12) and (bd_day<=21)) :\n",
    "    zodiac = 'Стрелец'\n",
    "elif ((bd_month==12) and (bd_day>=22)) or ((bd_month==1) and (bd_day<=19)) :\n",
    "    zodiac = 'Козерог'\n",
    "elif ((bd_month==1) and (bd_day>=20)) or ((bd_month==2) and (bd_day<=18)) :\n",
    "    zodiac = 'Водолей'\n",
    "elif ((bd_month==2) and (bd_day>=19)) or ((bd_month==3) and (bd_day<=20)) :\n",
    "    zodiac = 'Рыбы'\n",
    "\n",
    "print(f'Результат:\\nВаш знак зодиака: {zodiac}')\n"
   ]
  },
  {
   "cell_type": "code",
   "execution_count": 16,
   "metadata": {},
   "outputs": [
    {
     "output_type": "stream",
     "name": "stdout",
     "text": [
      "Коробка №2\n"
     ]
    }
   ],
   "source": [
    "# Задание 4\n",
    "# Вам нужно написать программу для подбора упаковок по размерам товара. Размеры хранятся в переменных (в сантиметрах):\n",
    "\n",
    "# Используйте следующие правила:\n",
    "\n",
    "# если каждое из трех измерений менее 15 сантиметров, то выведите на экран \"Коробка №1\";\n",
    "# если хотя бы одно из измерений больше 15 сантиметров, но менее 50 сантиметров, то выводите \"Коробка №2\";\n",
    "# если длина товара больше 2 метров, то выводите \"Упаковка для лыж\";\n",
    "# во всех остальных случаях выводите \"Стандартная коробка №3\".\n",
    "\n",
    "width = 10\n",
    "length = 18\n",
    "height = 5\n",
    "\n",
    "if width <15 and length <15 and height < 15:\n",
    "    print('Коробка №1')\n",
    "elif 15<width<50 or 15<length<50 or 15<height < 50:\n",
    "    print('Коробка №2')\n",
    "elif length>200:\n",
    "    print('Упаковка для лыж')\n",
    "else:\n",
    "    print('Стандартная коробка №3')"
   ]
  },
  {
   "cell_type": "code",
   "execution_count": null,
   "metadata": {},
   "outputs": [],
   "source": []
  }
 ],
 "metadata": {
  "kernelspec": {
   "display_name": "Python 3",
   "language": "python",
   "name": "python3"
  },
  "language_info": {
   "codemirror_mode": {
    "name": "ipython",
    "version": 3
   },
   "file_extension": ".py",
   "mimetype": "text/x-python",
   "name": "python",
   "nbconvert_exporter": "python",
   "pygments_lexer": "ipython3",
   "version": "3.7.6-final"
  }
 },
 "nbformat": 4,
 "nbformat_minor": 4
}