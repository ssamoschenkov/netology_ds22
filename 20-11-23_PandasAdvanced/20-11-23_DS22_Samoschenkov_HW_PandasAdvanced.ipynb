{
 "cells": [
  {
   "cell_type": "code",
   "execution_count": 25,
   "metadata": {},
   "outputs": [],
   "source": [
    "# DS-22 Самощенков Сергей\n",
    "# Домашнее задание «Продвинутый pandas»\n",
    "# Преподаватель: Константин Башевой"
   ]
  },
  {
   "cell_type": "code",
   "execution_count": 35,
   "metadata": {},
   "outputs": [
    {
     "output_type": "stream",
     "name": "stdout",
     "text": [
      "<class 'pandas.core.frame.DataFrame'>\nRangeIndex: 18938 entries, 0 to 18937\nData columns (total 6 columns):\n #   Column          Non-Null Count  Dtype \n---  ------          --------------  ----- \n 0   timestamp       18938 non-null  int64 \n 1   visit_id        18938 non-null  object\n 2   url             18938 non-null  object\n 3   region          18938 non-null  object\n 4   user_id         18938 non-null  object\n 5   traffic_source  18938 non-null  object\ndtypes: int64(1), object(5)\nmemory usage: 887.8+ KB\n"
     ]
    },
    {
     "output_type": "execute_result",
     "data": {
      "text/plain": [
       "            0           1                                   2       3  \\\n",
       "0  1549980692  e3b0c44298  https://host.ru/3c19b4ef7371864fa3  Russia   \n",
       "1  1549980704  6e340b9cff  https://host.ru/c8d9213a31839f9a3a  Russia   \n",
       "2  1549980715  96a296d224  https://host.ru/b8b58337d272ee7b15  Russia   \n",
       "3  1549980725  709e80c884  https://host.ru/b8b58337d272ee7b15  Russia   \n",
       "4  1549980736  df3f619804  https://host.ru/b8b58337d272ee7b15  Russia   \n",
       "5  1549980742  8855508aad  https://host.ru/df646c3676cc259fa0  Russia   \n",
       "6  1549980742  b0f66adc83  https://host.ru/b8b58337d272ee7b15  Russia   \n",
       "\n",
       "            4       5        6  \n",
       "0  b1613cc09f  yandex  organic  \n",
       "1  4c3ec14bee  direct   direct  \n",
       "2  a8c40697fb  yandex  organic  \n",
       "3  521ac1d6a0  yandex  organic  \n",
       "4  d7323c571c  yandex  organic  \n",
       "5  fc43898e47  yandex  organic  \n",
       "6  13fc55e781    paid       ad  "
      ],
      "text/html": "<div>\n<style scoped>\n    .dataframe tbody tr th:only-of-type {\n        vertical-align: middle;\n    }\n\n    .dataframe tbody tr th {\n        vertical-align: top;\n    }\n\n    .dataframe thead th {\n        text-align: right;\n    }\n</style>\n<table border=\"1\" class=\"dataframe\">\n  <thead>\n    <tr style=\"text-align: right;\">\n      <th></th>\n      <th>0</th>\n      <th>1</th>\n      <th>2</th>\n      <th>3</th>\n      <th>4</th>\n      <th>5</th>\n      <th>6</th>\n    </tr>\n  </thead>\n  <tbody>\n    <tr>\n      <th>0</th>\n      <td>1549980692</td>\n      <td>e3b0c44298</td>\n      <td>https://host.ru/3c19b4ef7371864fa3</td>\n      <td>Russia</td>\n      <td>b1613cc09f</td>\n      <td>yandex</td>\n      <td>organic</td>\n    </tr>\n    <tr>\n      <th>1</th>\n      <td>1549980704</td>\n      <td>6e340b9cff</td>\n      <td>https://host.ru/c8d9213a31839f9a3a</td>\n      <td>Russia</td>\n      <td>4c3ec14bee</td>\n      <td>direct</td>\n      <td>direct</td>\n    </tr>\n    <tr>\n      <th>2</th>\n      <td>1549980715</td>\n      <td>96a296d224</td>\n      <td>https://host.ru/b8b58337d272ee7b15</td>\n      <td>Russia</td>\n      <td>a8c40697fb</td>\n      <td>yandex</td>\n      <td>organic</td>\n    </tr>\n    <tr>\n      <th>3</th>\n      <td>1549980725</td>\n      <td>709e80c884</td>\n      <td>https://host.ru/b8b58337d272ee7b15</td>\n      <td>Russia</td>\n      <td>521ac1d6a0</td>\n      <td>yandex</td>\n      <td>organic</td>\n    </tr>\n    <tr>\n      <th>4</th>\n      <td>1549980736</td>\n      <td>df3f619804</td>\n      <td>https://host.ru/b8b58337d272ee7b15</td>\n      <td>Russia</td>\n      <td>d7323c571c</td>\n      <td>yandex</td>\n      <td>organic</td>\n    </tr>\n    <tr>\n      <th>5</th>\n      <td>1549980742</td>\n      <td>8855508aad</td>\n      <td>https://host.ru/df646c3676cc259fa0</td>\n      <td>Russia</td>\n      <td>fc43898e47</td>\n      <td>yandex</td>\n      <td>organic</td>\n    </tr>\n    <tr>\n      <th>6</th>\n      <td>1549980742</td>\n      <td>b0f66adc83</td>\n      <td>https://host.ru/b8b58337d272ee7b15</td>\n      <td>Russia</td>\n      <td>13fc55e781</td>\n      <td>paid</td>\n      <td>ad</td>\n    </tr>\n  </tbody>\n</table>\n</div>"
     },
     "metadata": {},
     "execution_count": 35
    }
   ],
   "source": [
    "# Задание 1\n",
    "# Для датафрейма log из материалов занятия создайте столбец source_type по следующим правилам:\n",
    "# если источник traffic_source равен yandex или google, то в source_type ставится organic\n",
    "# для источников paid и email из России - ставим ad\n",
    "# для источников paid и email не из России - ставим other\n",
    "# все остальные варианты берем из traffic_source без изменений\n",
    "\n",
    "import pandas as pd\n",
    "\n",
    "log = pd.read_csv('additional_materials\\\\visit_log.csv', sep=';')\n",
    "log.head(5)\n",
    "log.info()\n",
    "\n",
    "# Вариант 1 - через dataframe\n",
    "\n",
    "def traffic_source_calc(row):\n",
    "    \"\"\"\n",
    "    Вычисляет значение столбца traffic_source \n",
    "    \"\"\"  \n",
    "    if row['traffic_source'] in ['yandex', 'google']:\n",
    "        return 'organic'\n",
    "    elif (row['region'] == 'Russia') and (row['traffic_source'] in ['paid', 'email']):\n",
    "        return 'ad'\n",
    "    elif (row['region'] != 'Russia') and (row['traffic_source'] in ['paid', 'email']):\n",
    "        return 'other'\n",
    "    else:\n",
    "        return row['traffic_source']\n",
    "\n",
    "log['source_type'] = log.apply(traffic_source_calc, axis=1)\n",
    "\n",
    "log.head(7)\n",
    "\n",
    "# Вариант 2 - через список\n",
    "\n",
    "log['source_type'] = ''\n",
    "log_list = log.values.tolist()\n",
    "\n",
    "for log_row in log_list:\n",
    "    if log_row[5] in ['yandex', 'google']:\n",
    "        log_row[6] = 'organic'\n",
    "    elif (log_row[3] == 'Russia') and (log_row[5] in ['paid', 'email']):\n",
    "        log_row[6] = 'ad'\n",
    "    elif (log_row[3] != 'Russia') and (log_row[5] in ['paid', 'email']):\n",
    "        log_row[6] = 'other'\n",
    "    else:\n",
    "        log_row[6] = log_row[5]\n",
    "\n",
    "log = pd.DataFrame(log_list)\n",
    "\n",
    "log.head(7)\n",
    "\n",
    "\n",
    "# log['source_type'] = log.apply(lambda row: row.rating if 'Adventure' in row.genres else None, axis=1)\n",
    "\n",
    "# # Оптимизация1\n",
    "# with open('data.tsv') as f:\n",
    "#     next(f)\n",
    "#     table = [x.strip().split('\\t') for x in f.readlines()]\n",
    "# table[:2]\n",
    "# %%time\n",
    "# for _ in range(10**4):\n",
    "#     [x for x in table if x[:4] == line_to_search]\n",
    "\n",
    "# # Оптимизация2 \n",
    "# tuple_to_search = ('2020-12-06', '70', '3', '3')\n",
    "# dict_ = {}\n",
    "# for row in table:\n",
    "#     key = tuple(row[:4])\n",
    "#     value = row[4]\n",
    "#     dict_[key] = value\n",
    "# %%time\n",
    "# for _ in range(10**4):\n",
    "#     dict_(tuple_to_search)\n",
    "\n",
    "\n",
    "\n",
    "\n"
   ]
  },
  {
   "cell_type": "code",
   "execution_count": 24,
   "metadata": {},
   "outputs": [
    {
     "output_type": "execute_result",
     "data": {
      "text/plain": [
       "                                                 url\n",
       "3  /politics/36188461-s-marta-zhizn-rossiyan-susc...\n",
       "4  /world/36007585-tramp-pridumal-kak-reshit-ukra...\n",
       "5  /science/36157853-nasa-sobiraet-ekstrennuyu-pr...\n",
       "6  /video/36001498-poyavilis-pervye-podrobnosti-g...\n",
       "7  /world/36007585-tramp-pridumal-kak-reshit-ukra..."
      ],
      "text/html": "<div>\n<style scoped>\n    .dataframe tbody tr th:only-of-type {\n        vertical-align: middle;\n    }\n\n    .dataframe tbody tr th {\n        vertical-align: top;\n    }\n\n    .dataframe thead th {\n        text-align: right;\n    }\n</style>\n<table border=\"1\" class=\"dataframe\">\n  <thead>\n    <tr style=\"text-align: right;\">\n      <th></th>\n      <th>url</th>\n    </tr>\n  </thead>\n  <tbody>\n    <tr>\n      <th>3</th>\n      <td>/politics/36188461-s-marta-zhizn-rossiyan-susc...</td>\n    </tr>\n    <tr>\n      <th>4</th>\n      <td>/world/36007585-tramp-pridumal-kak-reshit-ukra...</td>\n    </tr>\n    <tr>\n      <th>5</th>\n      <td>/science/36157853-nasa-sobiraet-ekstrennuyu-pr...</td>\n    </tr>\n    <tr>\n      <th>6</th>\n      <td>/video/36001498-poyavilis-pervye-podrobnosti-g...</td>\n    </tr>\n    <tr>\n      <th>7</th>\n      <td>/world/36007585-tramp-pridumal-kak-reshit-ukra...</td>\n    </tr>\n  </tbody>\n</table>\n</div>"
     },
     "metadata": {},
     "execution_count": 24
    }
   ],
   "source": [
    "# Задание 2\n",
    "# В файле URLs.txt содержатся url страниц новостного сайта. Вам необходимо отфильтровать его по адресам страниц с текстами новостей. Известно, что шаблон страницы новостей имеет внутри url следующую конструкцию: /, затем 8 цифр, затем дефис. Выполните следующие действия:\n",
    "# Прочитайте содержимое файла с датафрейм\n",
    "# Отфильтруйте страницы с текстом новостей, используя метод str.contains и регулярное выражение в соответствии с заданным шаблоном\n",
    "\n",
    "import pandas as pd\n",
    "\n",
    "df = pd.read_csv('URLs.txt', sep='\\t')\n",
    "\n",
    "search_pattern = r'/\\d{8}-'\n",
    "filtered_news = df[(df['url'].str.contains(pat=search_pattern, case=False, regex=True))]\n",
    "filtered_news.head(5)\n"
   ]
  },
  {
   "cell_type": "code",
   "execution_count": 45,
   "metadata": {},
   "outputs": [
    {
     "output_type": "execute_result",
     "data": {
      "text/plain": [
       "                 keyword   shows                     lemmas\n",
       "0    курс гривны к рублю  125076  курс   гривна   к   рубль\n",
       "1        доллары в рубли  114173         доллар   в   рубль\n",
       "2  100 долларов в рублях   97534   100   доллар   в   рубль\n",
       "3             курс рубля   53546               курс   рубль"
      ],
      "text/html": "<div>\n<style scoped>\n    .dataframe tbody tr th:only-of-type {\n        vertical-align: middle;\n    }\n\n    .dataframe tbody tr th {\n        vertical-align: top;\n    }\n\n    .dataframe thead th {\n        text-align: right;\n    }\n</style>\n<table border=\"1\" class=\"dataframe\">\n  <thead>\n    <tr style=\"text-align: right;\">\n      <th></th>\n      <th>keyword</th>\n      <th>shows</th>\n      <th>lemmas</th>\n    </tr>\n  </thead>\n  <tbody>\n    <tr>\n      <th>0</th>\n      <td>курс гривны к рублю</td>\n      <td>125076</td>\n      <td>курс   гривна   к   рубль</td>\n    </tr>\n    <tr>\n      <th>1</th>\n      <td>доллары в рубли</td>\n      <td>114173</td>\n      <td>доллар   в   рубль</td>\n    </tr>\n    <tr>\n      <th>2</th>\n      <td>100 долларов в рублях</td>\n      <td>97534</td>\n      <td>100   доллар   в   рубль</td>\n    </tr>\n    <tr>\n      <th>3</th>\n      <td>курс рубля</td>\n      <td>53546</td>\n      <td>курс   рубль</td>\n    </tr>\n  </tbody>\n</table>\n</div>"
     },
     "metadata": {},
     "execution_count": 45
    }
   ],
   "source": [
    "# Задание 3\n",
    "# В датафрейме data создайте столбец lemmas, в котором вычислите леммы поисковых запросов из столбца keyword. Леммы должны иметь строковый тип.\n",
    "import pandas as pd\n",
    "data = pd.DataFrame({\n",
    "    'keyword': ['курс гривны к рублю', 'доллары в рубли', '100 долларов в рублях', 'курс рубля'],\n",
    "    'shows': [125076, 114173, 97534, 53546]\n",
    "})\n",
    "\n",
    "from pymystem3 import Mystem\n",
    "m = Mystem()\n",
    "\n",
    "# Вариант решения 1\n",
    "def lemmas_calc(row):\n",
    "    \"\"\"\n",
    "    Вычисляет леммы \n",
    "    \"\"\"  \n",
    "    # lemmas = m.lemmatize(text)\n",
    "    # print(''.join(lemmas))\n",
    "\n",
    "    lemmas = m.lemmatize(row['keyword'])\n",
    "    return ' '.join(lemmas).strip()\n",
    "\n",
    "data['lemmas'] = data.apply(lemmas_calc, axis=1)\n",
    "\n",
    "# Вариант решения 2 - короткий через передачи строки\n",
    "data.loc[:, 'lemmas'] = data.apply(lambda row: ' '.join(m.lemmatize(row['keyword'])).strip(), axis=1)\n",
    "\n",
    "# Вариант решения 3 - короткий через передачу keyword \n",
    "data.loc[:, 'lemmas'] = data.keyword.apply(lambda x: ' '.join(m.lemmatize(x)).strip())\n",
    "\n",
    "data.head(5)\n",
    "\n"
   ]
  },
  {
   "cell_type": "code",
   "execution_count": null,
   "metadata": {},
   "outputs": [],
   "source": []
  }
 ],
 "metadata": {
  "kernelspec": {
   "display_name": "Python 3",
   "language": "python",
   "name": "python3"
  },
  "language_info": {
   "codemirror_mode": {
    "name": "ipython",
    "version": 3
   },
   "file_extension": ".py",
   "mimetype": "text/x-python",
   "name": "python",
   "nbconvert_exporter": "python",
   "pygments_lexer": "ipython3",
   "version": "3.7.6-final"
  }
 },
 "nbformat": 4,
 "nbformat_minor": 4
}