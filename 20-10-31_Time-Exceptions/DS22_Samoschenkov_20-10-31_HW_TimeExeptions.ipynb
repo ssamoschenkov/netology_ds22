{
 "cells": [
  {
   "cell_type": "code",
   "execution_count": null,
   "metadata": {},
   "outputs": [],
   "source": [
    "# DS22 Самощенков Сергей\n",
    "# Домашнее задание к лекции «Исключения и обработка ошибок»\n"
   ]
  },
  {
   "cell_type": "code",
   "execution_count": 5,
   "metadata": {},
   "outputs": [
    {
     "name": "stdout",
     "output_type": "stream",
     "text": [
      "Wednesday, October 2, 2002 2002-10-02 00:00:00\n",
      "Friday, 11.10.13 2013-10-11 00:00:00\n",
      "Thursday, 18 August 1977 1977-08-18 00:00:00\n"
     ]
    }
   ],
   "source": [
    "# Задание 1\n",
    "# Печатные газеты использовали свой формат дат для каждого выпуска. Для каждой газеты из списка напишите формат указанной даты для перевода в объект datetime:\n",
    "# The Moscow Times - Wednesday, October 2, 2002\n",
    "# The Guardian - Friday, 11.10.13\n",
    "# Daily News - Thursday, 18 August 1977\n",
    "\n",
    "from datetime import datetime\n",
    "\n",
    "str_date_TMT= 'Wednesday, October 2, 2002'\n",
    "str_date_TG = 'Friday, 11.10.13'\n",
    "str_date_DN = 'Thursday, 18 August 1977'\n",
    "\n",
    "date_date_TMT=datetime.strptime(str_date_TMT, '%A, %B %d, %Y')\n",
    "date_date_TG=datetime.strptime(str_date_TG, '%A, %d.%m.%y')\n",
    "date_date_DN=datetime.strptime(str_date_DN, '%A, %d %B %Y')\n",
    "\n",
    "print(str_date_TMT, date_date_TMT)\n",
    "print(str_date_TG, date_date_TG)\n",
    "print(str_date_DN, date_date_DN)\n"
   ]
  },
  {
   "cell_type": "code",
   "execution_count": 7,
   "metadata": {},
   "outputs": [
    {
     "name": "stdout",
     "output_type": "stream",
     "text": [
      "2018-04-02 True\n",
      "2018-02-29 False\n",
      "2018-19-02 False\n"
     ]
    }
   ],
   "source": [
    "# Задание 2\n",
    "# Дан поток дат в формате YYYY-MM-DD, в которых встречаются некорректные значения\n",
    "# stream = [‘2018-04-02’, ‘2018-02-29’, ‘2018-19-02’]\n",
    "# Напишите функцию, которая проверяет эти даты на корректность. Т. е. для каждой даты возвращает True (дата корректна) или False (некорректная дата).\n",
    "\n",
    "from datetime import datetime\n",
    "\n",
    "stream = ['2018-04-02', '2018-02-29', '2018-19-02']\n",
    "\n",
    "def true_date(item):\n",
    "    try:\n",
    "        item_date = datetime.strptime(item, '%Y-%m-%d')\n",
    "    except:\n",
    "        return False\n",
    "    return True \n",
    "\n",
    "for item in stream:\n",
    "    print(item, true_date(item))\n",
    "\n"
   ]
  },
  {
   "cell_type": "code",
   "execution_count": 14,
   "metadata": {},
   "outputs": [
    {
     "name": "stdout",
     "output_type": "stream",
     "text": [
      "2010-02-15\n",
      "2010-02-16\n",
      "2010-02-17\n",
      "2010-02-18\n",
      "2010-02-19\n",
      "2010-02-20\n",
      "\n"
     ]
    }
   ],
   "source": [
    "# Задание 3\n",
    "# Напишите функцию date_range, которая возвращает список дат за период от start_date до end_date. Даты должны вводиться в формате YYYY-MM-DD. В случае неверного формата или при start_date > end_date должен возвращаться пустой список.\n",
    "from datetime import datetime\n",
    "from datetime import timedelta\n",
    "\n",
    "start_date='2010-02-15'\n",
    "end_date='2010-02-20'\n",
    "\n",
    "def date_range(start_date, end_date):\n",
    "    try:\n",
    "        date_list = ''\n",
    "        start_dt = datetime.strptime(start_date, '%Y-%m-%d')\n",
    "        end_dt = datetime.strptime(end_date, '%Y-%m-%d')\n",
    "        while start_dt <= end_dt:\n",
    "            date_list += start_dt.strftime('%Y-%m-%d') + '\\n'\n",
    "            start_dt += timedelta(days=1)\n",
    "    except:\n",
    "        pass\n",
    "    finally:\n",
    "        return date_list \n",
    "\n",
    "print (date_range(start_date, end_date))\n"
   ]
  },
  {
   "cell_type": "code",
   "execution_count": null,
   "metadata": {},
   "outputs": [],
   "source": []
  }
 ],
 "metadata": {
  "kernelspec": {
   "display_name": "Python 3",
   "language": "python",
   "name": "python3"
  },
  "language_info": {
   "codemirror_mode": {
    "name": "ipython",
    "version": 3
   },
   "file_extension": ".py",
   "mimetype": "text/x-python",
   "name": "python",
   "nbconvert_exporter": "python",
   "pygments_lexer": "ipython3",
   "version": "3.7.6"
  }
 },
 "nbformat": 4,
 "nbformat_minor": 4
}
