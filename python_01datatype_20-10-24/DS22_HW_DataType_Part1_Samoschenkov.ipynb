{
 "cells": [
  {
   "cell_type": "code",
   "execution_count": 1,
   "metadata": {},
   "outputs": [],
   "source": [
    "# DS22 - Самощенков Сергей \n",
    "# Домашнее задание к лекции \"Введение в типы данных и циклы. Часть 1\"\n",
    "\n",
    "# Задание 1\n",
    "# Дана переменная, в которой хранится слово из латинских букв. Напишите код, который выводит на экран:\n",
    "# среднюю букву, если число букв в слове нечетное;\n",
    "# две средних буквы, если число букв четное.\n",
    "\n",
    "s_string=\"Бамбалейро1\"\n",
    "lenstr=len(s_string)\n",
    "midstr=lenstr//2\n",
    "if lenstr%2 ==0:\n",
    "    print(f'{s_string[midstr-1]}{s_string[midstr]}')\n",
    "else:\n",
    "    print(f'{s_string[midstr]}')"
   ]
  },
  {
   "cell_type": "code",
   "execution_count": 9,
   "metadata": {},
   "outputs": [
    {
     "name": "stdout",
     "output_type": "stream",
     "text": [
      "Введите число: 5\n",
      "Введите число: 6\n",
      "Введите число: 7\n",
      "Введите число: hyt\n",
      "Вы ввели не число. Введите число: 0\n",
      "Сумма введенных чисел 18.0\n"
     ]
    }
   ],
   "source": [
    "# Задание 2\n",
    "# Напишите программу, которая последовательно запрашивает у пользователя числа (по одному за раз) и \n",
    "# после первого нуля выводит сумму всех ранее введенных чисел.\n",
    "\n",
    "def is_number(s):\n",
    "    try:\n",
    "        float(s)\n",
    "        return True\n",
    "    except ValueError:\n",
    "        return False\n",
    "\n",
    "user_answer=5\n",
    "user_answer_sum=0\n",
    "err_message = ''\n",
    "while user_answer !='0':    \n",
    "    user_answer = input(f'{err_message}Введите число: ')\n",
    "    if is_number(user_answer):\n",
    "        user_answer_sum = user_answer_sum + float(user_answer)\n",
    "        err_message=''\n",
    "    else:\n",
    "        err_message='Вы ввели не число. '\n",
    "print (f'Сумма введенных чисел {user_answer_sum}')"
   ]
  },
  {
   "cell_type": "code",
   "execution_count": 20,
   "metadata": {},
   "outputs": [
    {
     "name": "stdout",
     "output_type": "stream",
     "text": [
      "Идеальные пары:\n",
      "Alex и Emma\n",
      "Arthur и Kate\n",
      "John и Kira\n",
      "Michael и Liza\n",
      "Peter и Trisha\n",
      "Richard и Аня\n"
     ]
    }
   ],
   "source": [
    "# Задание 3\n",
    "# Мы делаем MVP dating-сервиса, и у нас есть список парней и девушек.\n",
    "# Выдвигаем гипотезу: лучшие рекомендации мы получим, если просто отсортируем имена по алфавиту и \n",
    "# познакомим людей с одинаковыми индексами после сортировки! \n",
    "# Но мы не будем никого знакомить, если кто-то может остаться без пары.\n",
    "\n",
    "boys = ['Peter', 'Alex', 'John', 'Arthur', 'Richard', 'Michael']\n",
    "girls = ['Kate', 'Liza', 'Kira', 'Emma', 'Trisha', 'Аня']\n",
    "if len(boys) == len(girls):\n",
    "    ideal_pairs=list(zip(sorted(boys), sorted(girls)))\n",
    "    print('Идеальные пары:')\n",
    "    for pair in ideal_pairs:\n",
    "        print (f'{pair[0]} и {pair[1]}')\n",
    "else:\n",
    "    print(f'Количество мальчиков и девочек не совпадает.\\nВ группе {len(boys)} мальчиков и {len(girls)} девочек')\n",
    "\n"
   ]
  },
  {
   "cell_type": "code",
   "execution_count": 31,
   "metadata": {},
   "outputs": [
    {
     "name": "stdout",
     "output_type": "stream",
     "text": [
      "Средняя температура по странам:\n",
      "Thailand - 23.9 градусов цельсия\n",
      "Germany - 13.8 градусов цельсия\n",
      "Russia - 3.7 градусов цельсия\n",
      "Poland - 12.0 градусов цельсия\n"
     ]
    }
   ],
   "source": [
    "# Задание 4\n",
    "# У нас есть список, содержащий информацию о среднедневной температуре в Фаренгейтах за произвольный период по странам (структура данных в примере). Необходимо написать код, который рассчитает среднюю температуру за период в Цельсиях(!) для каждой страны.\n",
    "\n",
    "countries_temperature = [\n",
    "    ['Thailand', [75.2, 77, 78.8, 73.4, 68, 75.2, 77]],\n",
    "    ['Germany', [57.2, 55.4, 59, 59, 53.6]],\n",
    "    ['Russia', [35.6, 37.4, 39.2, 41, 42.8, 39.2, 35.6]],\n",
    "    ['Poland', [50, 50, 53.6, 57.2, 55.4, 55.4]]\n",
    "]\n",
    "# (Фаренгейт — 32) : 1,8 = Цельсий\n",
    "print('Средняя температура по странам:')\n",
    "for country_temperature in countries_temperature:\n",
    "    far_avg_temperature = sum(country_temperature[1])/len(country_temperature[1])\n",
    "    cel_avg_temperature = (far_avg_temperature-32)/1.8\n",
    "    country_temperature.append (cel_avg_temperature)\n",
    "    print(f'{country_temperature[0]} - {round(country_temperature[2],1)} градусов цельсия') \n",
    "    \n",
    "    \n"
   ]
  },
  {
   "cell_type": "code",
   "execution_count": null,
   "metadata": {},
   "outputs": [],
   "source": []
  }
 ],
 "metadata": {
  "kernelspec": {
   "display_name": "Python 3",
   "language": "python",
   "name": "python3"
  },
  "language_info": {
   "codemirror_mode": {
    "name": "ipython",
    "version": 3
   },
   "file_extension": ".py",
   "mimetype": "text/x-python",
   "name": "python",
   "nbconvert_exporter": "python",
   "pygments_lexer": "ipython3",
   "version": "3.7.6"
  }
 },
 "nbformat": 4,
 "nbformat_minor": 4
}
