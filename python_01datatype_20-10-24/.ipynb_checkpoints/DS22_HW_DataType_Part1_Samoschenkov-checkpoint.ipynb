{
 "cells": [
  {
   "cell_type": "code",
   "execution_count": 1,
   "metadata": {},
   "outputs": [],
   "source": [
    "# DS22 - Самощенков Сергей \n",
    "# Домашнее задание к лекции \"Введение в типы данных и циклы. Часть 1\"\n",
    "\n",
    "# Задание 1\n",
    "# Дана переменная, в которой хранится слово из латинских букв. Напишите код, который выводит на экран:\n",
    "# среднюю букву, если число букв в слове нечетное;\n",
    "# две средних буквы, если число букв четное.\n",
    "\n",
    "s_string=\"Бамбалейро1\"\n",
    "lenstr=len(s_string)\n",
    "midstr=lenstr//2\n",
    "if lenstr%2 ==0:\n",
    "    print(f'{s_string[midstr-1]}{s_string[midstr]}')\n",
    "else:\n",
    "    print(f'{s_string[midstr]}')"
   ]
  },
  {
   "cell_type": "code",
   "execution_count": 9,
   "metadata": {},
   "outputs": [
    {
     "name": "stdout",
     "output_type": "stream",
     "text": [
      "Введите число: 5\n",
      "Введите число: 6\n",
      "Введите число: 7\n",
      "Введите число: hyt\n",
      "Вы ввели не число. Введите число: 0\n",
      "Сумма введенных чисел 18.0\n"
     ]
    }
   ],
   "source": [
    "# Задание 2\n",
    "# Напишите программу, которая последовательно запрашивает у пользователя числа (по одному за раз) и \n",
    "# после первого нуля выводит сумму всех ранее введенных чисел.\n",
    "\n",
    "def is_number(s):\n",
    "    try:\n",
    "        float(s)\n",
    "        return True\n",
    "    except ValueError:\n",
    "        return False\n",
    "\n",
    "user_answer=5\n",
    "user_answer_sum=0\n",
    "err_message = ''\n",
    "while user_answer !='0':    \n",
    "    user_answer = input(f'{err_message}Введите число: ')\n",
    "    if is_number(user_answer):\n",
    "        user_answer_sum = user_answer_sum + float(user_answer)\n",
    "        err_message=''\n",
    "    else:\n",
    "        err_message='Вы ввели не число. '\n",
    "print (f'Сумма введенных чисел {user_answer_sum}')"
   ]
  },
  {
   "cell_type": "code",
   "execution_count": null,
   "metadata": {},
   "outputs": [],
   "source": [
    "# Задание 3\n",
    "# Мы делаем MVP dating-сервиса, и у нас есть список парней и девушек.\n",
    "# Выдвигаем гипотезу: лучшие рекомендации мы получим, если просто отсортируем имена по алфавиту и \n",
    "# познакомим людей с одинаковыми индексами после сортировки! \n",
    "# Но мы не будем никого знакомить, если кто-то может остаться без пары.\n",
    "\n"
   ]
  },
  {
   "cell_type": "code",
   "execution_count": null,
   "metadata": {},
   "outputs": [],
   "source": []
  },
  {
   "cell_type": "code",
   "execution_count": null,
   "metadata": {},
   "outputs": [],
   "source": []
  }
 ],
 "metadata": {
  "kernelspec": {
   "display_name": "Python 3",
   "language": "python",
   "name": "python3"
  },
  "language_info": {
   "codemirror_mode": {
    "name": "ipython",
    "version": 3
   },
   "file_extension": ".py",
   "mimetype": "text/x-python",
   "name": "python",
   "nbconvert_exporter": "python",
   "pygments_lexer": "ipython3",
   "version": "3.7.6"
  }
 },
 "nbformat": 4,
 "nbformat_minor": 4
}
