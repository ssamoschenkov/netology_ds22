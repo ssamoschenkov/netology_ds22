{
 "cells": [
  {
   "cell_type": "code",
   "execution_count": null,
   "metadata": {},
   "outputs": [],
   "source": [
    "# DS22 Самощенков Сергей\n",
    "# Домашнее задание 'NumPy'"
   ]
  },
  {
   "cell_type": "code",
   "execution_count": 20,
   "metadata": {},
   "outputs": [
    {
     "output_type": "stream",
     "name": "stdout",
     "text": [
      "[9, 8, 7, 6, 5, 4, 3, 2, 1, 0]\n"
     ]
    }
   ],
   "source": [
    "# Задание 1\n",
    "# Создайте numpy array с элементами от числа N до 0 (например, для N = 10 это будет array([9, 8, 7, 6, 5, 4, 3, 2, 1, 0])).\n",
    "\n",
    "import numpy as np\n",
    "\n",
    "N = 10\n",
    "x = np.arange(N-1,0-1,-1)\n",
    "\n",
    "print(list(x))"
   ]
  },
  {
   "cell_type": "code",
   "execution_count": 27,
   "metadata": {},
   "outputs": [
    {
     "output_type": "stream",
     "name": "stdout",
     "text": [
      "15\n"
     ]
    }
   ],
   "source": [
    "# Задание 2\n",
    "# Создайте диагональную матрицу с элементами от N до 0. Посчитайте сумму ее значений на диагонали.\n",
    "\n",
    "import numpy as np\n",
    "\n",
    "# x = np.array([[1, 2, 3], [4, 5, 6]])\n",
    "\n",
    "N = 5\n",
    "diag_matr = np.diag(np.arange(N, 0-1, -1), k=0)\n",
    "\n",
    "sum_matr = np.sum(diag_matr) \n",
    "\n",
    "print(sum_matr)\n",
    "\n",
    "\n"
   ]
  },
  {
   "cell_type": "code",
   "execution_count": 30,
   "metadata": {},
   "outputs": [
    {
     "output_type": "execute_result",
     "data": {
      "text/plain": [
       "array([ 0.46666667,  3.84444444, -5.55555556])"
      ]
     },
     "metadata": {},
     "execution_count": 30
    }
   ],
   "source": [
    "# Задание 3\n",
    "# Решите систему уравнений:\n",
    "# 4x + 2y + z = 4\n",
    "# x + 3y = 12\n",
    "# 5y + 4z = -3\n",
    "\n",
    "import numpy as np\n",
    "\n",
    "a = np.array([[4, 2, 1], [1, 3, 0], [0, 5, 4]])\n",
    "b = np.array([4, 12, -3])\n",
    "\n",
    "from numpy import linalg\n",
    "\n",
    "linalg.solve(a,b)"
   ]
  },
  {
   "cell_type": "code",
   "execution_count": 49,
   "metadata": {},
   "outputs": [
    {
     "output_type": "stream",
     "name": "stdout",
     "text": [
      "Наиболее похожий пользователь: 8\nМаксимальное косинусное сходство: 0.9486832980505138\n"
     ]
    }
   ],
   "source": [
    "# Задание 4\n",
    "# В материалах занятия раздел “Задача 4 домашнего задания”\n",
    "# Имеется матрица покупок в интернет-магазине. Столбец А - ID пользователя. Остальные столбцы - количество покупок категорий товаров этим пользователем. \n",
    "# Матрица в виде numpy array.\n",
    "\n",
    "import numpy as np\n",
    "from numpy import linalg\n",
    "\n",
    "users_stats = np.array(\n",
    "    [\n",
    "        [2, 1, 0, 0, 0, 0],\n",
    "        [1, 1, 2, 1, 0, 0],\n",
    "        [2, 0, 1, 0, 0, 0],\n",
    "        [1, 1, 2, 1, 0, 1],\n",
    "        [0, 0, 1, 2, 0, 0],\n",
    "        [0, 0, 0, 0, 0, 5],\n",
    "        [1, 0, 0, 0, 0, 0],\n",
    "        [0, 1, 1, 0, 0, 0],\n",
    "        [0, 0, 0, 1, 1, 3],\n",
    "        [1, 0, 0, 2, 1, 4]\n",
    "    ], \n",
    "    np.int32\n",
    ")\n",
    "\n",
    "user_ids = np.array([1, 2, 3, 4, 5, 6, 7, 8, 9, 10])\n",
    "# На сайт заходит очередной посетитель, о покупках которого известно следующее:\n",
    "\n",
    "next_user_stats = np.array([0, 1, 2, 0, 0, 0])\n",
    "\n",
    "# Найдите самого похожего пользователя. Т. е. посчитайте косинусное сходство между этим пользователем и всеми пользователями из массива user_stats\n",
    "# Функция рассчета - Косинусное сходство между векторами\n",
    "\n",
    "def cosine(a, b):\n",
    "    \"\"\"\n",
    "    Подсчет косинуса угла между векторами a, b по их координатам\n",
    "    \"\"\"\n",
    "    # длины векторов\n",
    "    aLenght = np.linalg.norm(a)\n",
    "    bLenght = np.linalg.norm(b)\n",
    "    return np.dot(a, b) / (aLenght * bLenght)\n",
    "\n",
    "def most_similar_user(user_ids, users_stats, next_user_stats):\n",
    "    # создадим словарь из id-пользователей и их покупок\n",
    "    users_stats_dic = dict(zip(user_ids, users_stats))\n",
    "\n",
    "    # Можно было бы пойти через цикл:\n",
    "    # for user in users_stats:\n",
    "    #     cosine(next_user_stats, user)\n",
    "    # ...\n",
    "    # Но мы вычислим наиболее похожего пользователя через более короткую запись\n",
    "    most_similar_user_id = max(users_stats_dic, key = lambda x: cosine(next_user_stats, users_stats_dic[x]))\n",
    "    most_similar_user_value = cosine(next_user_stats, users_stats_dic[most_similar_user_id])\n",
    "\n",
    "    return [most_similar_user_id, most_similar_user_value]\n",
    "\n",
    "print(f'Наиболее похожий пользователь: {most_similar_user(user_ids, users_stats, next_user_stats)[0]}')\n",
    "print(f'Максимальное косинусное сходство: {most_similar_user(user_ids, users_stats, next_user_stats)[1]}')\n",
    "\n"
   ]
  }
 ],
 "metadata": {
  "kernelspec": {
   "display_name": "Python 3",
   "language": "python",
   "name": "python3"
  },
  "language_info": {
   "codemirror_mode": {
    "name": "ipython",
    "version": 3
   },
   "file_extension": ".py",
   "mimetype": "text/x-python",
   "name": "python",
   "nbconvert_exporter": "python",
   "pygments_lexer": "ipython3",
   "version": "3.7.6-final"
  }
 },
 "nbformat": 4,
 "nbformat_minor": 4
}