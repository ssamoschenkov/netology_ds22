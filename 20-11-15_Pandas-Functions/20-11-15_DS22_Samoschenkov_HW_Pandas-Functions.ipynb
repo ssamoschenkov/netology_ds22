{
 "cells": [
  {
   "cell_type": "code",
   "execution_count": null,
   "metadata": {},
   "outputs": [],
   "source": [
    "# Домашнее задание «Функции и работа с данными»\n",
    "# Преподаватель: Константин Башевой\n",
    "# **Домашнее задание к лекции."
   ]
  },
  {
   "cell_type": "code",
   "execution_count": 26,
   "metadata": {},
   "outputs": [
    {
     "output_type": "stream",
     "name": "stdout",
     "text": [
      "100004\n(9125, 3)\n"
     ]
    },
    {
     "output_type": "execute_result",
     "data": {
      "text/plain": [
       "   userId  movieId  rating   timestamp            class\n",
       "0       1       31     2.5  1260759144  Средний рейтинг\n",
       "1       1     1029     3.0  1260759179  Средний рейтинг\n",
       "2       1     1061     3.0  1260759182  Средний рейтинг\n",
       "3       1     1129     2.0  1260759185   Низкий рейтинг\n",
       "4       1     1172     4.0  1260759205  Средний рейтинг"
      ],
      "text/html": "<div>\n<style scoped>\n    .dataframe tbody tr th:only-of-type {\n        vertical-align: middle;\n    }\n\n    .dataframe tbody tr th {\n        vertical-align: top;\n    }\n\n    .dataframe thead th {\n        text-align: right;\n    }\n</style>\n<table border=\"1\" class=\"dataframe\">\n  <thead>\n    <tr style=\"text-align: right;\">\n      <th></th>\n      <th>userId</th>\n      <th>movieId</th>\n      <th>rating</th>\n      <th>timestamp</th>\n      <th>class</th>\n    </tr>\n  </thead>\n  <tbody>\n    <tr>\n      <th>0</th>\n      <td>1</td>\n      <td>31</td>\n      <td>2.5</td>\n      <td>1260759144</td>\n      <td>Средний рейтинг</td>\n    </tr>\n    <tr>\n      <th>1</th>\n      <td>1</td>\n      <td>1029</td>\n      <td>3.0</td>\n      <td>1260759179</td>\n      <td>Средний рейтинг</td>\n    </tr>\n    <tr>\n      <th>2</th>\n      <td>1</td>\n      <td>1061</td>\n      <td>3.0</td>\n      <td>1260759182</td>\n      <td>Средний рейтинг</td>\n    </tr>\n    <tr>\n      <th>3</th>\n      <td>1</td>\n      <td>1129</td>\n      <td>2.0</td>\n      <td>1260759185</td>\n      <td>Низкий рейтинг</td>\n    </tr>\n    <tr>\n      <th>4</th>\n      <td>1</td>\n      <td>1172</td>\n      <td>4.0</td>\n      <td>1260759205</td>\n      <td>Средний рейтинг</td>\n    </tr>\n  </tbody>\n</table>\n</div>"
     },
     "metadata": {},
     "execution_count": 26
    }
   ],
   "source": [
    "# Задание 1**\n",
    "# Напишите функцию, которая классифицирует фильмы из материалов занятия по следующим правилам:\n",
    "# - оценка 2 и меньше - низкий рейтинг\n",
    "# - оценка 4 и меньше - средний рейтинг\n",
    "# - оценка 4.5 и 5 - высокий рейтинг\n",
    "\n",
    "# Результат классификации запишите в столбец class\n",
    "\n",
    "import pandas as pd\n",
    "\n",
    "ratings_data = pd.read_csv('ml-latest-small\\\\ratings.csv')\n",
    "\n",
    "# movies_data = pd.read_csv('ml-latest-small\\movies.csv')\n",
    "# print(len(ratings_data))\n",
    "# print(movies_data.shape)\n",
    "\n",
    "def rating_size_calc(row):\n",
    "    \"\"\"\n",
    "    Вычисляет размер рейтинга в зависимости от точного значения\n",
    "    \"\"\"\n",
    "    \n",
    "    if 4.5 <= row['rating'] <= 5:\n",
    "        return 'Высокий рейтинг'\n",
    "    elif 2 < row['rating'] <= 4:\n",
    "        return 'Средний рейтинг'\n",
    "    elif row['rating'] <= 2:\n",
    "        return 'Низкий рейтинг'\n",
    "    else:\n",
    "        return ''\n",
    "\n",
    "ratings_data['class'] = ratings_data.apply(rating_size_calc, axis=1)\n",
    "\n",
    "ratings_data.head(5)\n"
   ]
  },
  {
   "cell_type": "code",
   "execution_count": 36,
   "metadata": {},
   "outputs": [
    {
     "output_type": "execute_result",
     "data": {
      "text/plain": [
       "                      keyword     shows        region\n",
       "0                          вк  64292779     undefined\n",
       "1               одноклассники  63810309     undefined\n",
       "2                       порно  41747114     undefined\n",
       "3                        ютуб  39995567     undefined\n",
       "4                   вконтакте  21014195  Северо-Запад\n",
       "5  одноклассники моя страница  19976138     undefined\n",
       "6                        майл  15144673     undefined\n",
       "7                       авито  14786593     undefined\n",
       "8                  переводчик  14453469     undefined\n",
       "9                      яндекс  13344734     undefined"
      ],
      "text/html": "<div>\n<style scoped>\n    .dataframe tbody tr th:only-of-type {\n        vertical-align: middle;\n    }\n\n    .dataframe tbody tr th {\n        vertical-align: top;\n    }\n\n    .dataframe thead th {\n        text-align: right;\n    }\n</style>\n<table border=\"1\" class=\"dataframe\">\n  <thead>\n    <tr style=\"text-align: right;\">\n      <th></th>\n      <th>keyword</th>\n      <th>shows</th>\n      <th>region</th>\n    </tr>\n  </thead>\n  <tbody>\n    <tr>\n      <th>0</th>\n      <td>вк</td>\n      <td>64292779</td>\n      <td>undefined</td>\n    </tr>\n    <tr>\n      <th>1</th>\n      <td>одноклассники</td>\n      <td>63810309</td>\n      <td>undefined</td>\n    </tr>\n    <tr>\n      <th>2</th>\n      <td>порно</td>\n      <td>41747114</td>\n      <td>undefined</td>\n    </tr>\n    <tr>\n      <th>3</th>\n      <td>ютуб</td>\n      <td>39995567</td>\n      <td>undefined</td>\n    </tr>\n    <tr>\n      <th>4</th>\n      <td>вконтакте</td>\n      <td>21014195</td>\n      <td>Северо-Запад</td>\n    </tr>\n    <tr>\n      <th>5</th>\n      <td>одноклассники моя страница</td>\n      <td>19976138</td>\n      <td>undefined</td>\n    </tr>\n    <tr>\n      <th>6</th>\n      <td>майл</td>\n      <td>15144673</td>\n      <td>undefined</td>\n    </tr>\n    <tr>\n      <th>7</th>\n      <td>авито</td>\n      <td>14786593</td>\n      <td>undefined</td>\n    </tr>\n    <tr>\n      <th>8</th>\n      <td>переводчик</td>\n      <td>14453469</td>\n      <td>undefined</td>\n    </tr>\n    <tr>\n      <th>9</th>\n      <td>яндекс</td>\n      <td>13344734</td>\n      <td>undefined</td>\n    </tr>\n  </tbody>\n</table>\n</div>"
     },
     "metadata": {},
     "execution_count": 36
    }
   ],
   "source": [
    "# Задание 2\n",
    "# Используем файл keywords.csv.\n",
    "\n",
    "# Необходимо написать гео-классификатор, который каждой строке сможет выставить географическую принадлежность определенному региону. Т. е. если поисковый запрос содержит название города региона, то в столбце ‘region’ пишется название этого региона. Если поисковый запрос не содержит названия города, то ставим ‘undefined’.\n",
    "\n",
    "# Правила распределения по регионам Центр, Северо-Запад и Дальний Восток:\n",
    "\n",
    "# geo_data = {\n",
    "# 'Центр': ['москва', 'тула', 'ярославль'],\n",
    "# 'Северо-Запад': ['петербург', 'псков', 'мурманск'],\n",
    "# 'Дальний Восток': ['владивосток', 'сахалин', 'хабаровск']\n",
    "# }\n",
    "\n",
    "# Результат классификации запишите в отдельный столбец region.\n",
    "\n",
    "import pandas as pd\n",
    "\n",
    "keywords_data = pd.read_csv('ml-latest-small\\\\keywords.csv')\n",
    "keywords_data.info\n",
    "# keyword, shows\n",
    "# region, undefined\n",
    "# 'эльдорадо старый оскол'\n",
    "geo_data = dict()\n",
    "geo_data = {\n",
    "'Центр': ['москва', 'тула', 'ярославль'],\n",
    "'Северо-Запад': ['петербург', 'псков', 'мурманск', 'вконтакте'],\n",
    "'Дальний Восток': ['владивосток', 'сахалин', 'хабаровск']\n",
    "}\n",
    "\n",
    "# keywords_data['region'] = keywords_data.apply(lambda x: [ for word in x['keyword'].split(' ') if word in], axis=1)\n",
    "\n",
    "def region_calc(row):\n",
    "    for word in row['keyword'].split(' '):\n",
    "        for key, value in geo_data.items():\n",
    "            if word in value:\n",
    "                return key\n",
    "    return 'undefined'\n",
    "\n",
    "keywords_data['region'] = keywords_data.apply(region_calc, axis=1)\n",
    "keywords_data.head(10)\n"
   ]
  }
 ],
 "metadata": {
  "kernelspec": {
   "display_name": "Python 3",
   "language": "python",
   "name": "python3"
  },
  "language_info": {
   "codemirror_mode": {
    "name": "ipython",
    "version": 3
   },
   "file_extension": ".py",
   "mimetype": "text/x-python",
   "name": "python",
   "nbconvert_exporter": "python",
   "pygments_lexer": "ipython3",
   "version": "3.7.6-final"
  }
 },
 "nbformat": 4,
 "nbformat_minor": 4
}