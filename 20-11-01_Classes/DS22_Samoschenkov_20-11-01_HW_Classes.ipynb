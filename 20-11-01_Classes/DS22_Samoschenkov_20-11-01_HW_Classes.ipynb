{
 "cells": [
  {
   "cell_type": "code",
   "execution_count": 65,
   "metadata": {},
   "outputs": [
    {
     "output_type": "stream",
     "name": "stdout",
     "text": [
      "Валюта с максимальным значением: XDR\nМаксимальное значение: 112.7784\n"
     ]
    }
   ],
   "source": [
    "# DS22 Самощенков Сергей\n",
    "# Домашнее задание 'Основы Классов'\n",
    "\n",
    "# Задание 1\n",
    "# Напишите функцию, которая возвращает название валюты (поле ‘Name’) с максимальным значением курса с помощью сервиса https://www.cbr-xml-daily.ru/daily_json.js\n",
    "\n",
    "import requests\n",
    "\n",
    "class Rate:\n",
    "    def __init__(self, format_='value'):\n",
    "        self.format = format_\n",
    "\n",
    "    def exchange_rates(self):\n",
    "        \"\"\"\n",
    "        Возвращает ответ с информацией о валютах:\n",
    "        {\n",
    "            'AMD': {\n",
    "                'CharCode': 'AMD',\n",
    "                'ID': 'R01060',\n",
    "                'Name': 'Армянских драмов',\n",
    "                'Nominal': 100,\n",
    "                'NumCode': '051',\n",
    "                'Previous': 14.103,\n",
    "                'Value': 14.0879\n",
    "                },\n",
    "            ...\n",
    "        }\n",
    "        \"\"\"\n",
    "        self.r = requests.get('https://www.cbr-xml-daily.ru/daily_json.js')\n",
    "        return self.r.json()['Valute']\n",
    "   \n",
    "def maxval_currency():\n",
    "\n",
    "    b=Rate(format_='full')\n",
    "    b.exchange_rates()\n",
    "    response = b.exchange_rates()\n",
    "    return [max(response, key= lambda x: response[x]['Value']), response[max(response, key= lambda x: response[x]['Value'])]['Value']] \n",
    "\n",
    "print('Валюта с максимальным значением: {}\\nМаксимальное значение: {}'.format(maxval_currency()[0],maxval_currency()[1])) \n"
   ]
  },
  {
   "cell_type": "code",
   "execution_count": 67,
   "metadata": {},
   "outputs": [
    {
     "output_type": "stream",
     "name": "stdout",
     "text": [
      "-0.5742999999999938\n"
     ]
    }
   ],
   "source": [
    "# Задание 2\n",
    "# Добавьте в класс Rate параметр diff (со значениями True или False), который в случае значения True в методах курсов валют (eur, usd итд) будет возвращать не курс валюты, а изменение по сравнению в прошлым значением. Считайте, self.diff будет принимать значение True только при возврате значения курса. При отображении всей информации о валюте он не используется.\n",
    "\n",
    "import requests\n",
    "\n",
    "class Rate:\n",
    "    def __init__(self, format_='value'):\n",
    "        self.format = format_\n",
    "\n",
    "    def exchange_rates(self):\n",
    "        \"\"\"\n",
    "        Возвращает ответ с информацией о валютах:\n",
    "        \"\"\"\n",
    "        self.r = requests.get('https://www.cbr-xml-daily.ru/daily_json.js')\n",
    "        return self.r.json()['Valute']\n",
    "\n",
    "    def make_format(self, currency, diff=False):\n",
    "        \"\"\"\n",
    "        Возвращает информацию о валюте currency в двух вариантах:\n",
    "        - полная информация о валюте при self.format = 'full':\n",
    "        Rate('full').make_format('EUR')\n",
    "        {\n",
    "            'CharCode': 'EUR',\n",
    "            'ID': 'R01239',\n",
    "            'Name': 'Евро',\n",
    "            'Nominal': 1,\n",
    "            'NumCode': '978',\n",
    "            'Previous': 79.6765,\n",
    "            'Value': 79.4966\n",
    "        }\n",
    "        Rate('value').make_format('EUR')\n",
    "        79.4966\n",
    "        \"\"\"\n",
    "        response = self.exchange_rates()\n",
    "        if currency in response:\n",
    "            if self.format == 'full':\n",
    "                return response[currency]\n",
    "            if self.format == 'value':\n",
    "                if not diff: \n",
    "                    return response[currency]['Value']\n",
    "                else:\n",
    "                    return response[currency]['Value']-response[currency]['Previous']\n",
    "        return 'Error'\n",
    "\n",
    "    def usd(self, diff=False):\n",
    "        \"\"\"\n",
    "        Возвращает курс доллара на сегодня в формате self.format        \n",
    "        \"\"\"\n",
    "        return self.make_format('USD', diff)\n",
    "\n",
    "b=Rate(format_='value')\n",
    "print(b.usd(True))\n"
   ]
  },
  {
   "cell_type": "code",
   "execution_count": 108,
   "metadata": {},
   "outputs": [
    {
     "output_type": "stream",
     "name": "stdout",
     "text": [
      "Александр 1\n5\nАлександр 1\n6\nАлександр 2\n7\nАлександр 2\n8\nАлександр 2\n9\nАлександр 2\n10\nАлександр 2\n11\nАлександр 2\n12\nАлександр 2\n13\nАлександр 3\n14\nАлександр 3\n15\nАлександр 3\n16\nАлександр 3\n17\nАлександр 3\n18\nАлександр 3\n19\nАлександр 3\n20\nАлександр 4\n21\nАлександр 4\n22\nАлександр 4\n23\nАлександр 4\n24\n"
     ]
    }
   ],
   "source": [
    "# Задание 3\n",
    "# Напишите класс Designer, который учитывает количество международных премий для дизайнеров (из презентации: “Повышение на 1 грейд за каждые 7 баллов. Получение международной премии – это +2 балла”). Считайте, что при выходе на работу сотрудник уже имеет две премии и их количество не меняется со стажем (конечно если хотите это можно вручную менять).\n",
    "# Класс Designer пишется по аналогии с классом Developer из материалов занятия. Комментарий про его условия Вика написала выше: “Повышение на 1 грейд за каждые 7 баллов. Получение международной премии – это +2 балла”\n",
    "\n",
    "class Employee:\n",
    "    def __init__(self, name, seniority):\n",
    "        self.name = name\n",
    "        self.seniority=seniority\n",
    "        self.grade = 1\n",
    "\n",
    "    def grade_up(self):\n",
    "        \"\"\"Повышает уровень сотрудника\"\"\"\n",
    "        self.grade += 1\n",
    "\n",
    "    def publish_grade(self):\n",
    "        \"\"\"Публикация результатов аккредитации сотрудников\"\"\"\n",
    "        print(self.name, self.grade)\n",
    "\n",
    "class Designer(Employee):\n",
    "\n",
    "    def __init__(self, name, seniority=4, award=2):\n",
    "        super().__init__(name, seniority)\n",
    "        self.award=max(award,2)\n",
    "        self.seniority=max(seniority,4)\n",
    "\n",
    "    def get_new_award(self):\n",
    "        \"\"\"Получение премии повышает баллы сотрудника (+2 балла за премию)\"\"\"\n",
    "        self.seniority += 2\n",
    "\n",
    "    def check_if_it_is_time_for_upgarde(self):\n",
    "        # для каждой аккредитации увеличиваем счетчик на 1\n",
    "        # пока считаем, что все дизайнеры проходят аккредитацию\n",
    "        self.seniority += 1\n",
    "        # условия повышения сотрудника\n",
    "        if self.seniority % 7 == 0:\n",
    "            self.grade_up()\n",
    "        # публикация результатов\n",
    "        return self.publish_grade()\n",
    "\n",
    "# проверяем как работает система повышения сотрудников \n",
    "# дизайнер Александр только что пришел в компанию\n",
    "alex  = Designer('Александр')\n",
    "for i in range(20):\n",
    "    alex.check_if_it_is_time_for_upgarde()\n",
    "    print(alex.seniority)\n",
    "\n",
    "\n"
   ]
  },
  {
   "cell_type": "code",
   "execution_count": null,
   "metadata": {},
   "outputs": [],
   "source": []
  }
 ],
 "metadata": {
  "kernelspec": {
   "display_name": "Python 3",
   "language": "python",
   "name": "python3"
  },
  "language_info": {
   "codemirror_mode": {
    "name": "ipython",
    "version": 3
   },
   "file_extension": ".py",
   "mimetype": "text/x-python",
   "name": "python",
   "nbconvert_exporter": "python",
   "pygments_lexer": "ipython3",
   "version": "3.7.6-final"
  }
 },
 "nbformat": 4,
 "nbformat_minor": 4
}