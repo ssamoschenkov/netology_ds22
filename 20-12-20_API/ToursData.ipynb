{
 "cells": [
  {
   "cell_type": "code",
   "execution_count": 5,
   "metadata": {},
   "outputs": [
    {
     "output_type": "execute_result",
     "data": {
      "text/plain": [
       "{\"responseData\":{\"dateFrom\":\"01.03.2021\",\"dateTo\":\"14.03.2021\",\"canonical\":null,\"fbq_events\":[[\"track\",\"Search\"]],\"hideregular\":null,\"search_id\":\"2920241310\",\"recommended_search_id\":null,\"country\":{\"id\":84,\"tourvisorId\":41,\"title\":\"\\u0422\\u0430\\u043d\\u0437\\u0430\\u043d\\u0438\\u044f\",\"slug\":\"tanzania\",\"declension\":\"\\u0432 \\u0422\\u0430\\u043d\\u0437\\u0430\\u043d\\u0438\\u044e\",\"currencyCode\":\"TZS\",\"currencyName\":null,\"timezone\":\"Africa\\/Dar_es_Salaam\"},\"nlp_viewer_count\":null},\"response\":{\"content\":\"\",\"protocolVersion\":\"1.0\",\"statusCode\":200,\"charset\":null,\"cacheable\":false,\"fresh\":false,\"validateable\":false,\"date\":{\"timezone\":{\"name\":\"GMT\",\"location\":false},\"offset\":0,\"timestamp\":1610316391},\"age\":0,\"expires\":null,\"maxAge\":null,\"ttl\":null,\"lastModified\":null,\"etag\":null,\"vary\":[],\"invalid\":false,\"informational\":false,\"successful\":true,\"redirection\":false,\"clientError\":false,\"serverError\":false,\"ok\":true,\"forbidden\":false,\"notFound\":false,\"redirect\":false,\"empty\":false,\"headers\":{\"cache-control\":[\"no-cache\"],\"date\":[\"Sun, 10 Jan 2021 22:06:31 GMT\"]}}}"
      ]
     },
     "metadata": {},
     "execution_count": 5
    }
   ],
   "source": [
    "import requests\n",
    "import time \n",
    "import pandas as pd\n",
    "from bs4 import BeautifulSoup\n",
    "\n",
    "hub_news = pd.DataFrame()\n",
    "\n",
    "# получаем страницу с самыми свежими постами\n",
    "# req_URL = 'https://chip.travel/search/tanzania/*/search??departure=moskva&datefrom=01.03.2021&dateto=14.03.2021&nightsfrom=13&nightsto=14&adults=2&stars=3&regular=0&operators=13%2B12'\n",
    "req_URL = 'https://chip.travel/search/tanzania/'\n",
    "\n",
    "params = {\n",
    "    'departure': 'moskva',\n",
    "    'datefrom': '01.03.2021',\n",
    "    'dateto': '14.03.2021',\n",
    "    'nightsfrom': '13',\n",
    "    'nightsto': '14',\n",
    "    'adults': '2',\n",
    "    'stars': '3',\n",
    "    'regular': '0',\n",
    "    'operators': '13%2B12',\n",
    "    }\n",
    "\n",
    "req = requests.get(req_URL, params = params)\n",
    "soap = BeautifulSoup(req.text, 'html.parser')\n",
    "soap\n",
    "\n",
    "# :authority: chip.travel\n",
    "# :method: GET\n",
    "# :path: /search/tanzania/*/search??departure=moskva&datefrom=01.03.2021&dateto=14.03.2021&nightsfrom=13&nightsto=14&adults=2&stars=3&regular=0&operators=13%2B12\n",
    "# :scheme: https\n",
    "# accept: */*\n",
    "# accept-encoding: gzip, deflate, br\n",
    "# accept-language: ru-RU,ru;q=0.9,en-US;q=0.8,en;q=0.7\n",
    "# content-type: application/json\n",
    "# cookie: roistat_is_need_listen_requests=0; __cfduid=d8d6fc075f99d1ff0b53c36239931a9b01609786091; departure=%D0%9C%D0%BE%D1%81%D0%BA%D0%B2%D0%B0; roistat_visit=3611644; roistat_first_visit=3611644; roistat_visit_cookie_expire=1209600; _gcl_au=1.1.422720494.1609786097; _ga=GA1.2.999869911.1609786097; _ym_uid=1609786097228227747; _ym_d=1609786097; _fbp=fb.1.1609786097695.510032928; ___dc=c2f9b440-3e46-4bec-a939-3ef733dfa6e4; roistat_marker_old=null; roistat_call_tracking=0; roistat_emailtracking_email=null; roistat_emailtracking_tracking_email=null; roistat_emailtracking_emails=null; _gid=GA1.2.1026021808.1610144870; _ym_visorc=w; _ym_isad=2; departure_value=moskva; carrotquest_session=sugti9c1jj1xps0n2wa5nuxujqe42do6\n",
    "# referer: https://chip.travel/search/tanzania/zanzibar?departure=moskva&datefrom=01.03.2021&dateto=14.03.2021&nightsfrom=13&nightsto=14&adults=2&stars=3&regular=0&operators=13%2B12\n",
    "# sec-ch-ua: \"Google Chrome\";v=\"87\", \" Not;A Brand\";v=\"99\", \"Chromium\";v=\"87\"\n",
    "# sec-ch-ua-mobile: ?0\n",
    "# sec-fetch-dest: empty\n",
    "# sec-fetch-mode: cors\n",
    "# sec-fetch-site: same-origin\n",
    "# user-agent: Mozilla/5.0 (Windows NT 10.0; Win64; x64) AppleWebKit/537.36 (KHTML, like Gecko) Chrome/87.0.4280.88 Safari/537.36\n",
    "\n",
    "# # извлекаем посты\n",
    "# posts = soup.find_all('article', class_ ='post')\n",
    "\n",
    "# # Вариант 1\n",
    "# hubs = list(map(lambda x: x.find('a', class_='post__title_link'), posts))\n",
    "# hub_links = list(map(lambda x: x.find('a', class_='post__title_link').get('href'), posts))\n",
    "# hub_titles = list(map(lambda x: x.find('a', class_='post__title_link').getText(), posts))\n",
    "# hub_dates = list(map(lambda x: x.find('span', class_='post__time').getText(), posts))\n",
    "# hub_authors = list(map(lambda x: x.find('span', class_='user-info__nickname').getText(), posts))\n",
    "# hub_ids = list(map(lambda x: x.parent.attrs.get('id'), posts))\n",
    "\n",
    "# if len(hub_links) == len(hub_titles) == len(hub_dates) == len(hub_authors) == len(hub_ids):\n",
    "#     hub_news['hub_links']=hub_links\n",
    "#     hub_news['hub_titles']=hub_titles\n",
    "#     hub_news['hub_dates']=hub_dates\n",
    "#     hub_news['hub_authors']=hub_authors\n",
    "#     hub_news['hub_ids']=hub_ids\n",
    "#     hub_news = hub_news[hub_news['hub_titles'].apply(lambda x: any([keyword in x.lower() for keyword in keywords]))]\n",
    "# else:\n",
    "#     print ('Данный алгоритм не подходит')"
   ]
  },
  {
   "cell_type": "code",
   "execution_count": null,
   "metadata": {},
   "outputs": [],
   "source": []
  }
 ],
 "metadata": {
  "kernelspec": {
   "display_name": "Python 3",
   "language": "python",
   "name": "python3"
  },
  "language_info": {
   "codemirror_mode": {
    "name": "ipython",
    "version": 3
   },
   "file_extension": ".py",
   "mimetype": "text/x-python",
   "name": "python",
   "nbconvert_exporter": "python",
   "pygments_lexer": "ipython3",
   "version": "3.7.6-final"
  }
 },
 "nbformat": 4,
 "nbformat_minor": 4
}