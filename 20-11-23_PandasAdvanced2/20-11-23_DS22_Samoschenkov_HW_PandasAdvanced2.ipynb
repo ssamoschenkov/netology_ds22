{
 "cells": [
  {
   "cell_type": "code",
   "execution_count": 1,
   "metadata": {},
   "outputs": [],
   "source": [
    "# DS-22 Самощенков Сергей\n",
    "# Домашнее задание «Продвинутый pandas 2»\n",
    "# Преподаватель: Константин Башевой"
   ]
  },
  {
   "cell_type": "code",
   "execution_count": 28,
   "metadata": {},
   "outputs": [
    {
     "output_type": "stream",
     "name": "stdout",
     "text": [
      "Среднее время жизни пользователей, которые выставили более 100 оценок: 19061.7 час.\n"
     ]
    }
   ],
   "source": [
    "# Задание 1\n",
    "\n",
    "# Используйте файл с оценками фильмов ml-latest-small/ratings.csv. Посчитайте среднее время жизни пользователей, которые выставили более 100 оценок. Под временем жизни понимается разница между максимальным и минимальным значением столбца timestamp для данного значения userId.\n",
    "\n",
    "import pandas as pd\n",
    "\n",
    "ratings_data = pd.read_csv('ml-latest-small/ratings.csv')\n",
    "\n",
    "ratings_data.head(5)\n",
    "\n",
    "ratings_data = (\n",
    "    ratings_data[ratings_data['rating'] == 5]\n",
    "    .groupby('userId').agg(\n",
    "        time_max = pd.NamedAgg(column = 'timestamp', aggfunc = 'max'),\n",
    "        time_min = pd.NamedAgg(column = 'timestamp', aggfunc = 'min'),\n",
    "        rate_count = pd.NamedAgg(column = 'rating', aggfunc = 'count'),\n",
    "    )\n",
    "    .sort_values(['userId'], ascending=[True])\n",
    "    )\n",
    "\n",
    "# Вариант 1\n",
    "ratings_data['time_delta_100'] = ratings_data.apply(lambda row: row['time_max'] - row['time_min'] if row['rate_count']>100 else None , axis=1)\n",
    "print(f\"Среднее время жизни пользователей, которые выставили более 100 оценок: {round(ratings_data['time_delta_100'].mean()/3600,1)} час.\")\n",
    "\n",
    "# Вариант 2\n",
    "ratings_data['time_delta'] = ratings_data.apply(lambda row: row['time_max'] - row['time_min'], axis=1)\n",
    "print(f\"Среднее время жизни пользователей, которые выставили более 100 оценок: {round(ratings_data['time_delta'][ratings_data['rate_count']>100].mean()/3600,1)} час.\")\n",
    "\n",
    "\n"
   ]
  },
  {
   "cell_type": "code",
   "execution_count": 47,
   "metadata": {},
   "outputs": [
    {
     "output_type": "stream",
     "name": "stdout",
     "text": [
      "Таблица по типам выручки с указанием адреса клиента \n\n   client_id          address  auto_revenue  air_revenue  rzd_revenue\n0        111  Комсомольская 4           NaN          NaN       1093.0\n1        112   Энтузиастов 8а           NaN          NaN       2810.0\n2        113  Левобережная 1а       57483.0          NaN      10283.0\n3        114          Мира 14          83.0          NaN       5774.0\n4        115        ЗЖБИиДК 1         912.0         81.0        981.0\n5        116    Строителей 18        4834.0          4.0          NaN\n6        117  Панфиловская 33          98.0         13.0          NaN\n7        118     Мастеркова 4           NaN        173.0          NaN\n\n Таблица по типам выручки без указания адреса клиента \n\n   client_id  auto_revenue  air_revenue  rzd_revenue\n0        113       57483.0          NaN      10283.0\n1        114          83.0          NaN       5774.0\n2        115         912.0         81.0        981.0\n3        116        4834.0          4.0          NaN\n4        117          98.0         13.0          NaN\n5        118           NaN        173.0          NaN\n6        111           NaN          NaN       1093.0\n7        112           NaN          NaN       2810.0\n\n Таблица по типам выручки без указания адреса клиента - вариант 2 \n\n   client_id  auto_revenue  air_revenue  rzd_revenue\n0        111           NaN          NaN       1093.0\n1        112           NaN          NaN       2810.0\n2        113       57483.0          NaN      10283.0\n3        114          83.0          NaN       5774.0\n4        115         912.0         81.0        981.0\n5        116        4834.0          4.0          NaN\n6        117          98.0         13.0          NaN\n7        118           NaN        173.0          NaN\n\n Таблица по типам выручки без указания адреса клиента - вариант 3 \n\n   client_id  auto_revenue  air_revenue  rzd_revenue\n0        111           NaN          NaN       1093.0\n1        112           NaN          NaN       2810.0\n2        113       57483.0          NaN      10283.0\n3        114          83.0          NaN       5774.0\n4        115         912.0         81.0        981.0\n5        116        4834.0          4.0          NaN\n6        117          98.0         13.0          NaN\n7        118           NaN        173.0          NaN\n"
     ]
    }
   ],
   "source": [
    "# Задание 2\n",
    "\n",
    "# Дана статистика услуг перевозок клиентов компании по типам (см. файл с кодом занятия). \n",
    "# Необходимо сформировать две таблицы:\n",
    "# таблицу с тремя типами выручки для каждого client_id без указания адреса клиента\n",
    "# аналогичную таблицу по типам выручки с указанием адреса клиента\n",
    "# Обратите внимание, что в процессе объединения таблиц данные не должны теряться.\n",
    "\n",
    "# К домашнему заданию, задача 2\n",
    "# Дана статистика услуг перевозок клиентов компании по типам:\n",
    "\n",
    "# rzd - железнодорожные перевозки\n",
    "# auto - автомобильные перевозки\n",
    "# air - воздушные перевозки\n",
    "# client_base - адреса клиентов\n",
    "\n",
    "rzd = pd.DataFrame(\n",
    "    {\n",
    "        'client_id': [111, 112, 113, 114, 115],\n",
    "        'rzd_revenue': [1093, 2810, 10283, 5774, 981]\n",
    "    }\n",
    ")\n",
    "\n",
    "rzd.head(5)\n",
    "\n",
    "auto = pd.DataFrame(\n",
    "    {\n",
    "        'client_id': [113, 114, 115, 116, 117],\n",
    "        'auto_revenue': [57483, 83, 912, 4834, 98]\n",
    "    }\n",
    ")\n",
    "\n",
    "auto.head(5)\n",
    "\n",
    "air = pd.DataFrame(\n",
    "    {\n",
    "        'client_id': [115, 116, 117, 118],\n",
    "        'air_revenue': [81, 4, 13, 173]\n",
    "    }\n",
    ")\n",
    "\n",
    "air.head(5)\n",
    "\n",
    "client_base = pd.DataFrame(\n",
    "    {\n",
    "        'client_id': [111, 112, 113, 114, 115, 116, 117, 118],\n",
    "        'address': ['Комсомольская 4', 'Энтузиастов 8а', 'Левобережная 1а', 'Мира 14', 'ЗЖБИиДК 1', \n",
    "                    'Строителей 18', 'Панфиловская 33', 'Мастеркова 4']\n",
    "    }\n",
    ")\n",
    "\n",
    "# Таблица по типам выручки с указанием адреса клиента\n",
    "client_revenue_with_address = client_base.merge(auto, on='client_id', how='left').merge(air, on='client_id', how='left').merge(rzd, on='client_id', how='left')\n",
    "# Таблица по типам выручки без указания адреса клиента\n",
    "client_revenue_without_address = auto.merge(air, on='client_id', how='outer').merge(rzd, on='client_id', how='outer')\n",
    "# Таблица по типам выручки без указания адреса клиента - вариант 2\n",
    "client_revenue_without_address_var2 = client_revenue_with_address.loc[:, ['client_id', 'auto_revenue', 'air_revenue', 'rzd_revenue']]\n",
    "# Таблица по типам выручки без указания адреса клиента - вариант 3\n",
    "client_revenue_without_address_var3 = pd.DataFrame(client_revenue_with_address, columns=['client_id', 'auto_revenue', 'air_revenue', 'rzd_revenue'])\n",
    "\n",
    "print('Таблица по типам выручки с указанием адреса клиента', '\\n')\n",
    "print(client_revenue_with_address.head(8))\n",
    "print('\\n', 'Таблица по типам выручки без указания адреса клиента', '\\n')\n",
    "print(client_revenue_without_address.head(8))\n",
    "print('\\n', 'Таблица по типам выручки без указания адреса клиента - вариант 2', '\\n')\n",
    "print(client_revenue_without_address_var2.head(8))\n",
    "print('\\n', 'Таблица по типам выручки без указания адреса клиента - вариант 3', '\\n')\n",
    "print(client_revenue_without_address_var3.head(8))\n",
    "\n"
   ]
  },
  {
   "cell_type": "code",
   "execution_count": null,
   "metadata": {},
   "outputs": [],
   "source": [
    "# Задание 3\n",
    "\n",
    "# В задаче сквозной аналитики вам предоставили данные по местоположению пользователей. Т. е. для каждого user_id известна последовательность координат (широта/долгота), когда они требовались приложению для полноценной работы. \n",
    "\n",
    "# Как бы вы добавили эти сведения в таблицу визитов и покупок? \n",
    "\n",
    "1. для каждого визита нужно взять координату (x1; y1) за ближайшее время (t1) до времени визита (t) и координату (x2; y2) за ближайшее время после визита (t2)\n",
    "2. записать в таблицу визитов координату по формуле (x1 + (x2-x1)*(t-t1)/(t2-t1); y1 + (y2-y1)*(t-t1)/(t2-t1))\n",
    "\n",
    "# Для составления ответа можно использовать вопросы:\n",
    "# У каждого пользователя известен набор координат. А для связывания с визитом или фактом покупки скорее всего потребуется одно-два числа. Как их получить?\n",
    "# Наборы координат одного и того же пользователя могут быть значительно удалены друг от друга. Как это отразится на вопросе расчетах пункта 1?\n",
    "точность расчетной координаты уменьшится \n",
    "# Какие дополнительные признаки можно получить из координат? Ведь это просто числа, которые сами по себе мало что дают.\n",
    "маршрут клиента, адреса: индекс, город, улица, дом\n"
   ]
  }
 ],
 "metadata": {
  "kernelspec": {
   "display_name": "Python 3",
   "language": "python",
   "name": "python3"
  },
  "language_info": {
   "codemirror_mode": {
    "name": "ipython",
    "version": 3
   },
   "file_extension": ".py",
   "mimetype": "text/x-python",
   "name": "python",
   "nbconvert_exporter": "python",
   "pygments_lexer": "ipython3",
   "version": "3.7.6-final"
  }
 },
 "nbformat": 4,
 "nbformat_minor": 4
}