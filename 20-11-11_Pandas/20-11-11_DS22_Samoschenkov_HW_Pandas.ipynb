{
 "cells": [
  {
   "cell_type": "code",
   "execution_count": 69,
   "metadata": {},
   "outputs": [
    {
     "output_type": "stream",
     "name": "stdout",
     "text": [
      "Лучший фильм: Shawshank Redemption, The (1994)\nЧисло оценок '5': 153\nКод: 318\n"
     ]
    }
   ],
   "source": [
    "# DS22 Самощенков Сергей\n",
    "# Домашнее задание «Библиотека Pandas»\n",
    "\n",
    "# Задание 1\n",
    "# Скачайте с сайта https://grouplens.org/datasets/movielens/ датасет любого размера. Определите какому фильму было выставлено больше всего оценок 5.0.\n",
    "\n",
    "import pandas as pd\n",
    "\n",
    "ratings_data = pd.read_csv('ratings.csv')\n",
    "movies_data = pd.read_csv('movies.csv')\n",
    "\n",
    "# print(len(ratings_data))\n",
    "# print(movies_data.shape)\n",
    "# movies_data.head(5)\n",
    "# ratings_data.head(5)\n",
    "\n",
    "ratings5_data = (\n",
    "    ratings_data[ratings_data['rating'] == 5]\n",
    "    .groupby('movieId').agg(\n",
    "        countRating = pd.NamedAgg(column = 'rating', aggfunc = 'count'),\n",
    "        rating = pd.NamedAgg(column = 'rating', aggfunc = 'mean')\n",
    "    )\n",
    "    .sort_values(['countRating'], ascending=[False])\n",
    "    )\n",
    "\n",
    "ratings5_data = pd.merge(ratings5_data, movies_data, on='movieId', how='left')\n",
    "\n",
    "print(f\"Лучший фильм: {ratings5_data['title'][0]}\")\n",
    "print(f\"Число оценок '5': {ratings5_data['countRating'][0]}\")\n",
    "print(f\"Код: {ratings5_data['movieId'][0]}\")\n",
    "\n"
   ]
  },
  {
   "cell_type": "code",
   "execution_count": 107,
   "metadata": {},
   "outputs": [
    {
     "output_type": "stream",
     "name": "stdout",
     "text": [
      "Cуммарное потребление стран Прибалтики энергии (категорий 4, 12 и 21) с 2005 по 2010 годы: 240580.0\n"
     ]
    }
   ],
   "source": [
    "# Задание 2\n",
    "# По данным файла power.csv посчитайте суммарное потребление стран Прибалтики (Латвия, Литва и Эстония) категорий 4, 12 и 21 за период с 2005 по 2010 года. Не учитывайте в расчетах отрицательные значения quantity.\n",
    "\n",
    "import pandas as pd\n",
    "\n",
    "power_data = pd.read_csv('power.csv')\n",
    "\n",
    "# power_data.shape\n",
    "# power_data.head(5)\n",
    "\n",
    "# def baltic(country):\n",
    "#     \"\"\"Объединение стран Прибалтики\"\"\"\n",
    "#     if country in ['Lithuania', 'Latvia', 'Estonia']:\n",
    "#         return 'Прибалтика'\n",
    "#     return 'Other'\n",
    "# power_data['baltic'] = power_data['country'].apply(baltic)\n",
    "\n",
    "power_data_baltic = power_data[power_data['category'].isin([4, 12, 21]) & power_data['country'].isin(['Lithuania', 'Latvia', 'Estonia']) & (power_data['year'] >= 2005) & (power_data['year'] <= 2010) & (power_data['quantity'] > 0)]\n",
    "\n",
    "print('Cуммарное потребление стран Прибалтики энергии (категорий 4, 12 и 21) с 2005 по 2010 годы: {}'.format(power_data_baltic['quantity'].sum()))\n",
    "\n"
   ]
  },
  {
   "cell_type": "code",
   "execution_count": 167,
   "metadata": {},
   "outputs": [
    {
     "output_type": "execute_result",
     "data": {
      "text/plain": [
       "   Unnamed: 0    Рубль Предложение Спрос Предыдущее закрытие        %  \\\n",
       "0         NaN  GBP/RUB     1020148     -             1020976  -0,08 %   \n",
       "1         NaN  EUR/RUB      915805     -              911030   0,52 %   \n",
       "2         NaN  USD/RUB      773425     -              773245   0,02 %   \n",
       "3         NaN  JPY/RUB       07390     -               07396  -0,08 %   \n",
       "4         NaN  CNY/RUB      117073     -              117123  -0,04 %   \n",
       "\n",
       "  Абсолютное значение       Время  \n",
       "0              -00829  14.11.2020  \n",
       "1               04775  14.11.2020  \n",
       "2               00180  14.11.2020  \n",
       "3              -00006  14.11.2020  \n",
       "4              -00050  14.11.2020  "
      ],
      "text/html": "<div>\n<style scoped>\n    .dataframe tbody tr th:only-of-type {\n        vertical-align: middle;\n    }\n\n    .dataframe tbody tr th {\n        vertical-align: top;\n    }\n\n    .dataframe thead th {\n        text-align: right;\n    }\n</style>\n<table border=\"1\" class=\"dataframe\">\n  <thead>\n    <tr style=\"text-align: right;\">\n      <th></th>\n      <th>Unnamed: 0</th>\n      <th>Рубль</th>\n      <th>Предложение</th>\n      <th>Спрос</th>\n      <th>Предыдущее закрытие</th>\n      <th>%</th>\n      <th>Абсолютное значение</th>\n      <th>Время</th>\n    </tr>\n  </thead>\n  <tbody>\n    <tr>\n      <th>0</th>\n      <td>NaN</td>\n      <td>GBP/RUB</td>\n      <td>1020148</td>\n      <td>-</td>\n      <td>1020976</td>\n      <td>-0,08 %</td>\n      <td>-00829</td>\n      <td>14.11.2020</td>\n    </tr>\n    <tr>\n      <th>1</th>\n      <td>NaN</td>\n      <td>EUR/RUB</td>\n      <td>915805</td>\n      <td>-</td>\n      <td>911030</td>\n      <td>0,52 %</td>\n      <td>04775</td>\n      <td>14.11.2020</td>\n    </tr>\n    <tr>\n      <th>2</th>\n      <td>NaN</td>\n      <td>USD/RUB</td>\n      <td>773425</td>\n      <td>-</td>\n      <td>773245</td>\n      <td>0,02 %</td>\n      <td>00180</td>\n      <td>14.11.2020</td>\n    </tr>\n    <tr>\n      <th>3</th>\n      <td>NaN</td>\n      <td>JPY/RUB</td>\n      <td>07390</td>\n      <td>-</td>\n      <td>07396</td>\n      <td>-0,08 %</td>\n      <td>-00006</td>\n      <td>14.11.2020</td>\n    </tr>\n    <tr>\n      <th>4</th>\n      <td>NaN</td>\n      <td>CNY/RUB</td>\n      <td>117073</td>\n      <td>-</td>\n      <td>117123</td>\n      <td>-0,04 %</td>\n      <td>-00050</td>\n      <td>14.11.2020</td>\n    </tr>\n  </tbody>\n</table>\n</div>"
     },
     "metadata": {},
     "execution_count": 167
    }
   ],
   "source": [
    "# Задание 3\n",
    "# Выберите страницу любого сайта с табличными данными. Импортируйте таблицы в pandas dataframe.\n",
    "# Примеры страниц (необязательно брать именно эти):\n",
    "# https://fortrader.org/quotes\n",
    "# https://www.finanz.ru/valyuty/v-realnom-vremeni\n",
    "\n",
    "import pandas as pd\n",
    "\n",
    "page_url = 'https://www.finanz.ru/valyuty/v-realnom-vremeni'\n",
    "attrs = {'class' : 'quote_list'} # ---> указываем какой именно блок нам нужен\n",
    "encoding ='utf-8' # ---> указываем кодировку страниц для корректного отображения кириллицы\n",
    "df = pd.read_html(page_url, attrs = attrs, match = 'Абсолютное значение', encoding = encoding, skiprows=0)[0]\n",
    "df = pd.DataFrame(df)\n",
    "df.head(5)\n"
   ]
  }
 ],
 "metadata": {
  "kernelspec": {
   "display_name": "Python 3",
   "language": "python",
   "name": "python3"
  },
  "language_info": {
   "codemirror_mode": {
    "name": "ipython",
    "version": 3
   },
   "file_extension": ".py",
   "mimetype": "text/x-python",
   "name": "python",
   "nbconvert_exporter": "python",
   "pygments_lexer": "ipython3",
   "version": "3.7.6-final"
  }
 },
 "nbformat": 4,
 "nbformat_minor": 4
}